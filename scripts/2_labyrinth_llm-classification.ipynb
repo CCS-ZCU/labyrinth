{
 "cells": [
  {
   "cell_type": "code",
   "id": "aa7c961cfbf8ce2c",
   "metadata": {
    "ExecuteTime": {
     "end_time": "2025-07-07T09:36:52.681785Z",
     "start_time": "2025-07-07T09:36:52.677090Z"
    }
   },
   "source": [
    "\n",
    "import os\n",
    "import warnings\n",
    "\n",
    "# Suppress TensorFlow warnings\n",
    "os.environ['TF_CPP_MIN_LOG_LEVEL'] = '2'  # Suppress INFO and WARNING messages\n",
    "os.environ['TF_ENABLE_ONEDNN_OPTS'] = '0'  # Disable oneDNN optimizations\n",
    "os.environ['CUDA_VISIBLE_DEVICES'] = ''   # Use CPU only (optional)\n",
    "os.environ['TOKENIZERS_PARALLELISM'] = 'false'  # Disable tokenizer parallelism warnings\n",
    "\n",
    "# Suppress other warnings\n",
    "warnings.filterwarnings('ignore')\n",
    "warnings.filterwarnings('ignore', category=UserWarning)\n",
    "warnings.filterwarnings('ignore', category=FutureWarning)\n",
    "warnings.filterwarnings('ignore', category=DeprecationWarning)\n",
    "\n",
    "import requests\n",
    "\n",
    "import matplotlib.pyplot as plt\n",
    "import seaborn as sns\n",
    "\n",
    "import umap, numpy as np, pandas as pd\n",
    "\n",
    "import warnings\n",
    "warnings.filterwarnings('ignore')\n",
    "\n",
    "# Or for specific warning types:\n",
    "warnings.filterwarnings('ignore', category=UserWarning)\n",
    "warnings.filterwarnings('ignore', category=FutureWarning)\n",
    "warnings.filterwarnings('ignore', category=DeprecationWarning)\n"
   ],
   "outputs": [],
   "execution_count": 4
  },
  {
   "metadata": {
    "ExecuteTime": {
     "end_time": "2025-07-07T09:36:58.057529Z",
     "start_time": "2025-07-07T09:36:57.915933Z"
    }
   },
   "cell_type": "code",
   "source": "labyrinthus_df = pd.read_parquet(\"../data/labyrinthus_grela_v0-1-2.parquet\")",
   "id": "f22bb4c33292bd46",
   "outputs": [],
   "execution_count": 5
  },
  {
   "metadata": {
    "ExecuteTime": {
     "end_time": "2025-07-07T06:21:39.901398Z",
     "start_time": "2025-07-07T06:21:31.347895Z"
    }
   },
   "cell_type": "code",
   "source": [
    "\n",
    "SYSTEM = \"\"\"\n",
    "You are a Latin philologist and semantic analyst.\n",
    "\n",
    "You will classify how the Latin word “labyrinthus” is used in context.\n",
    "\n",
    "Return exactly one or two labels from the list below:\n",
    "\n",
    "alchemical\n",
    "anatomical\n",
    "metaphorical\n",
    "poetic\n",
    "architectural\n",
    "nature\n",
    "astronomical\n",
    "geographical\n",
    "history\n",
    "medical\n",
    "philosophical\n",
    "spiritual\n",
    "religious\n",
    "scientific\n",
    "\n",
    "Preferably, return only one label.  The order matters - the first label should be the more general and more important. Add the second label only when needed for a higher precision. Each label has to be lowercase, comma separated, no abbreviations - follow closely the list above and do not add any extra words - no explanations, comments, or punctuation.\n",
    "\"\"\".strip()\n",
    "\n",
    "FEWSHOT = \"\"\"\n",
    "Passage:\n",
    "In quo quicunque notitiam aliquam Trinitatis … labyrinthum divinae revelationis ingreditur.\n",
    "Label: spiritual\n",
    "\n",
    "Passage:\n",
    "Unde praemonendum puto … ne quis irrationabili aestimet voluptate … labyrinthum erroris intexat.\n",
    "Label: metaphorical\n",
    "\n",
    "Passage:\n",
    "Jauditoria arteria interna … in labyrinthi cavitatem intrat …\n",
    "Label: medical\n",
    "\n",
    "Passage:\n",
    "{0}\n",
    "Label:\n",
    "\"\"\".strip()\n",
    "\n",
    "def classify_labyrinthus(passage):\n",
    "    # Handle NaN or None values\n",
    "    if pd.isna(passage) or passage is None:\n",
    "        return \"unknown\"\n",
    "\n",
    "    # Ensure passage is a string\n",
    "    passage = str(passage)\n",
    "\n",
    "    url = \"http://localhost:11434/api/generate\"\n",
    "    prompt = FEWSHOT.format(passage.strip())\n",
    "    payload = {\n",
    "        \"model\": \"llama3.1:70b\",\n",
    "        \"system\": SYSTEM,\n",
    "        \"prompt\": prompt,\n",
    "        \"options\": {\n",
    "            \"temperature\": 0,\n",
    "            \"num_predict\": 5\n",
    "        },\n",
    "        \"stream\": False\n",
    "    }\n",
    "    response = requests.post(url, json=payload)\n",
    "    if response.status_code == 200:\n",
    "        return response.json()[\"response\"].strip().lower()\n",
    "    else:\n",
    "        print(f\"Error {response.status_code}: {response.text}\")\n",
    "        return None\n",
    "\n",
    "\n",
    "classify_labyrinthus(labyrinthus_df.sample()[\"context_3sents\"].iloc[0])"
   ],
   "id": "fdbe1fc1e8f76126",
   "outputs": [
    {
     "data": {
      "text/plain": [
       "'anatomical'"
      ]
     },
     "execution_count": 4,
     "metadata": {},
     "output_type": "execute_result"
    }
   ],
   "execution_count": 4
  },
  {
   "metadata": {
    "ExecuteTime": {
     "end_time": "2025-07-07T00:02:05.162255Z",
     "start_time": "2025-07-06T22:42:06.987374Z"
    }
   },
   "cell_type": "code",
   "source": [
    "%%time\n",
    "from concurrent.futures import ThreadPoolExecutor, as_completed\n",
    "\n",
    "def classify_many(passages, max_workers=30):\n",
    "    results = [None]*len(passages)\n",
    "    with ThreadPoolExecutor(max_workers=max_workers) as ex:\n",
    "        fut_to_i = {ex.submit(classify_labyrinthus, p): i\n",
    "                    for i, p in enumerate(passages)}\n",
    "        for fut in as_completed(fut_to_i):\n",
    "            i = fut_to_i[fut]\n",
    "            results[i] = fut.result()\n",
    "    return results\n",
    "\n",
    "labyrinthus_df[\"classification_double\"] = classify_many(labyrinthus_df[\"context_3sents\"])\n"
   ],
   "id": "906db91dc8792635",
   "outputs": [
    {
     "name": "stdout",
     "output_type": "stream",
     "text": [
      "CPU times: user 1.34 s, sys: 210 ms, total: 1.55 s\n",
      "Wall time: 1h 19min 58s\n"
     ]
    }
   ],
   "execution_count": 17
  },
  {
   "metadata": {
    "ExecuteTime": {
     "end_time": "2025-07-07T00:12:42.727943Z",
     "start_time": "2025-07-07T00:12:42.722385Z"
    }
   },
   "cell_type": "code",
   "source": "labyrinthus_df[\"classification_double\"] = labyrinthus_df[\"classification\"]\n",
   "id": "309799e823031542",
   "outputs": [
    {
     "data": {
      "text/plain": [
       "classification\n",
       "anatomical, medical            106\n",
       "anatomical                     101\n",
       "metaphorical, philosophical     76\n",
       "architectural                   52\n",
       "metaphorical                    51\n",
       "philosophical, metaphor         47\n",
       "poetic, metaphorical            41\n",
       "metaphorical, spiritual         41\n",
       "architectural, historical       31\n",
       "alchemical, metaphorical        26\n",
       "astronomical                    25\n",
       "architectural, geographical     24\n",
       "metaphorical, poetic            23\n",
       "medical, metaphorical           20\n",
       "geographical                    19\n",
       "poetic                          16\n",
       "astronomical, metaphor          15\n",
       "architectural, metaphor         13\n",
       "geographical, architectural     12\n",
       "metaphorical, medical           12\n",
       "Name: count, dtype: int64"
      ]
     },
     "execution_count": 20,
     "metadata": {},
     "output_type": "execute_result"
    }
   ],
   "execution_count": 20
  },
  {
   "metadata": {
    "ExecuteTime": {
     "end_time": "2025-07-07T09:37:41.293138Z",
     "start_time": "2025-07-07T09:37:12.113385Z"
    }
   },
   "cell_type": "code",
   "source": [
    "import requests, pandas as pd\n",
    "\n",
    "# ─────────────────────────── 1. Label map ────────────────────────────\n",
    "LABEL_MAP = {\n",
    "    0: \"mythological\",\n",
    "    1: \"metaphorical_general\",\n",
    "    2: \"spiritual_religious\",\n",
    "    3: \"philosophical\",\n",
    "    4: \"medical_anatomical\",\n",
    "    5: \"scientific_alchemical\",\n",
    "    6: \"poetic\",\n",
    "    7: \"astronomical\",\n",
    "    8: \"geographical\",\n",
    "    9: \"historical_political\",\n",
    "}\n",
    "\n",
    "LABEL2ID = {v: k for k, v in LABEL_MAP.items()}\n",
    "\n",
    "# ─────────────────────────── 2. LLM system prompt with descriptions ──────────────────────────\n",
    "SYSTEM = \"\"\"\n",
    "You are a Latin philologist and semantic analyst.\n",
    "\n",
    "Your task is to classify how the word “labyrinthus” is used in a Latin passage.\n",
    "\n",
    "Choose **exactly one** of the numbered categories below and reply with the **numeric ID only** (no explanations, no punctuation).\n",
    "\n",
    "Categories:\n",
    "\n",
    " 0 – mythological: Refers to the original myth (Daedalus, Minotaur), includes architectural descriptions tied to the myth\n",
    " 1 – metaphorical_general: Figurative use implying confusion, complexity, or entrapment\n",
    " 2 – spiritual_religious: Mystical, theological, or religious allegory\n",
    " 3 – philosophical: Philosophical, logical, or epistemological metaphor\n",
    " 4 – medical_anatomical: Anatomical or medical references (e.g., inner ear)\n",
    " 5 – scientific_alchemical: Scientific, technical, or alchemical discussion\n",
    " 6 – poetic: Used in poetic or literary imagery\n",
    " 7 – astronomical: Related to the cosmos, stars, or celestial metaphors\n",
    " 8 – geographical: Refers to physical terrain, buildings, or city structure\n",
    " 9 – historical_political: Political or historical systems described metaphorically\n",
    "\"\"\".strip()\n",
    "\n",
    "# ─────────────────────────── 3. Few-shot examples ──────────────────────────\n",
    "FEWSHOT = \"\"\"\n",
    "Passage:\n",
    "In quo quicunque notitiam aliquam Trinitatis … labyrinthum divinae revelationis ingreditur.\n",
    "Label: 2\n",
    "\n",
    "Passage:\n",
    "Unde praemonendum puto … ne quis irrationabili aestimet voluptate … labyrinthum erroris intexat.\n",
    "Label: 1\n",
    "\n",
    "Passage:\n",
    "Jauditoria arteria interna … in labyrinthi cavitatem intrat …\n",
    "Label: 4\n",
    "\n",
    "Passage:\n",
    "{0}\n",
    "Label:\n",
    "\"\"\".strip()\n",
    "\n",
    "# ─────────────────────────── 4. Classification function ──────────────────────────\n",
    "def classify_labyrinthus(passage: str,\n",
    "                         *,\n",
    "                         model_name: str = \"llama3.1:70b\",\n",
    "                         url: str       = \"http://localhost:11434/api/generate\",\n",
    "                         temperature:   float = 0.0,\n",
    "                         timeout:       int   = 60) -> int | None:\n",
    "    \"\"\"Return a numeric label ID (0–9) or None on failure.\"\"\"\n",
    "    if pd.isna(passage) or passage is None:\n",
    "        return None\n",
    "\n",
    "    prompt = FEWSHOT.format(passage.strip())\n",
    "\n",
    "    payload = {\n",
    "        \"model\": model_name,\n",
    "        \"system\": SYSTEM,\n",
    "        \"prompt\": prompt,\n",
    "        \"options\": {\n",
    "            \"temperature\": temperature,\n",
    "            \"num_predict\": 3\n",
    "        },\n",
    "        \"stream\": False\n",
    "    }\n",
    "\n",
    "    try:\n",
    "        resp = requests.post(url, json=payload, timeout=timeout)\n",
    "    except requests.RequestException as e:\n",
    "        print(\"⛔ LLM request failed:\", e)\n",
    "        return None\n",
    "\n",
    "    if resp.status_code != 200:\n",
    "        print(f\"⛔ LLM HTTP {resp.status_code}: {resp.text[:200]}\")\n",
    "        return None\n",
    "\n",
    "    try:\n",
    "        raw = resp.json().get(\"response\", \"\").strip()\n",
    "        pred_id = int(raw)\n",
    "        return pred_id if pred_id in LABEL_MAP else None\n",
    "    except (ValueError, KeyError):\n",
    "        print(\"⚠︎ Unexpected LLM output:\", resp.json())\n",
    "        return None\n",
    "\n",
    "classify_labyrinthus(labyrinthus_df.sample()[\"context_3sents\"].iloc[0])"
   ],
   "id": "3c858f4e8c087a34",
   "outputs": [
    {
     "data": {
      "text/plain": [
       "5"
      ]
     },
     "execution_count": 6,
     "metadata": {},
     "output_type": "execute_result"
    }
   ],
   "execution_count": 6
  },
  {
   "metadata": {},
   "cell_type": "code",
   "outputs": [],
   "execution_count": null,
   "source": [
    "from matplotlib import cm\n",
    "\n",
    "unique_lbls = sorted(labyrinthus_df[\"classification_single_label\"].unique())\n",
    "N = len(unique_lbls)\n",
    "# Pick a discrete palette, extend if labels > 20\n",
    "cmap_name = \"tab20\" if N > 10 else \"tab10\"\n",
    "cmap = cm.get_cmap(cmap_name, N)\n",
    "\n",
    "palette = {\n",
    "    lbl: cmap(i)\n",
    "    for i, lbl in enumerate(unique_lbls)\n",
    "}"
   ],
   "id": "a0a57417a3d01f36"
  },
  {
   "metadata": {
    "ExecuteTime": {
     "end_time": "2025-07-07T10:30:16.098385Z",
     "start_time": "2025-07-07T09:38:00.310569Z"
    }
   },
   "cell_type": "code",
   "source": [
    "%%time\n",
    "from concurrent.futures import ThreadPoolExecutor, as_completed\n",
    "\n",
    "def classify_many(passages, max_workers=8):\n",
    "    results = [None]*len(passages)\n",
    "    with ThreadPoolExecutor(max_workers=max_workers) as ex:\n",
    "        fut_to_i = {ex.submit(classify_labyrinthus, p): i\n",
    "                    for i, p in enumerate(passages)}\n",
    "        for fut in as_completed(fut_to_i):\n",
    "            i = fut_to_i[fut]\n",
    "            results[i] = fut.resultb()\n",
    "    return results\n",
    "\n",
    "labyrinthus_df[\"classification_single\"] = classify_many(labyrinthus_df[\"context_3sents\"])"
   ],
   "id": "c53171207510852f",
   "outputs": [
    {
     "name": "stdout",
     "output_type": "stream",
     "text": [
      "CPU times: user 1.33 s, sys: 209 ms, total: 1.54 s\n",
      "Wall time: 52min 15s\n"
     ]
    }
   ],
   "execution_count": 7
  },
  {
   "metadata": {
    "ExecuteTime": {
     "end_time": "2025-07-08T20:58:12.977371Z",
     "start_time": "2025-07-08T20:58:12.926235Z"
    }
   },
   "cell_type": "code",
   "source": "labyrinthus_df.head()",
   "id": "f5089ba97bb55298",
   "outputs": [
    {
     "data": {
      "text/plain": [
       "                                author                                 title  \\\n",
       "0  Humbertus Silvae Candidae1010-1061                    Adversus Simoniacos   \n",
       "1                      Petrus Damianus           Patrologia Latina, vol. 145   \n",
       "2               Rodulphus S. Trudonis                      Vita S. Lietberti   \n",
       "3                    Domnizo Canusinus             Vita et carmina Mathildis   \n",
       "4               Durandus Trobarnensis   Liber de corpore et sanguine Christi   \n",
       "\n",
       "   grela_id    sentence_id                                      sentence_text  \\\n",
       "0  cc_10012  cc_10012_2812  Exploret qui potest qualiter, et qua hunc laby...   \n",
       "1  cc_10077    cc_10077_50  Et poenae factus est auctor, qui poenalis laby...   \n",
       "2  cc_10161    cc_10161_32  mirantibus magistris penetrat labyrinthos Scri...   \n",
       "3  cc_10261   cc_10261_892  Ista fuit, quae par habuit regemque Deumque, H...   \n",
       "4  cc_10298   cc_10298_920  Uerum quia quidam peruersi ex hac tanti doctor...   \n",
       "\n",
       "                                      context_3sents  \\\n",
       "0  Si enim, ut philosophus allegat, qui non prohi...   \n",
       "1  Protinus igitur projectus in taurum, quod infe...   \n",
       "2  Ducitur sitibundo pectore currens ad fontem ph...   \n",
       "3  Ista fuit, quae diripuit Paulumque Petrumque; ...   \n",
       "4  Xxui. | Uerum quia quidam peruersi ex hac tant...   \n",
       "\n",
       "                                              tokens  \\\n",
       "0  [{'char_end': 8, 'char_start': 0, 'lemma': 'ex...   \n",
       "1  [{'char_end': 2, 'char_start': 0, 'lemma': 'et...   \n",
       "2  [{'char_end': 10, 'char_start': 0, 'lemma': 'm...   \n",
       "3  [{'char_end': 4, 'char_start': 0, 'lemma': 'is...   \n",
       "4  [{'char_end': 5, 'char_start': 0, 'lemma': 'ue...   \n",
       "\n",
       "                                  concordance_tokens  not_before  not_after  \\\n",
       "0  [{'char_end': 303, 'char_start': 299, 'lemma':...      1010.0     1061.0   \n",
       "1  [{'char_end': 83, 'char_start': 75, 'lemma': '...      1007.0     1072.0   \n",
       "2  [{'char_end': 144, 'char_start': 136, 'lemma':...         NaN        NaN   \n",
       "3  [{'char_end': 43, 'char_start': 40, 'lemma': '...      1130.0     1130.0   \n",
       "4  [{'char_end': 10, 'char_start': 6, 'lemma': 'q...         NaN        NaN   \n",
       "\n",
       "   date_random lagt_genre lagt_provenience noscemus_genre noscemus_discipline  \\\n",
       "0       1050.0       None             None           None                None   \n",
       "1       1044.0       None             None           None                None   \n",
       "2          NaN       None             None           None                None   \n",
       "3       1130.0       None             None           None                None   \n",
       "4          NaN       None             None           None                None   \n",
       "\n",
       "   target_token_id  target_char_start  target_char_end  classification_single  \n",
       "0        334984558                 42               53                      1  \n",
       "1        239753625                 42               52                      0  \n",
       "2        213436689                 30               41                      3  \n",
       "3        230188102                 86               97                      1  \n",
       "4        302696146                 70               81                      1  "
      ],
      "text/html": [
       "<div>\n",
       "<style scoped>\n",
       "    .dataframe tbody tr th:only-of-type {\n",
       "        vertical-align: middle;\n",
       "    }\n",
       "\n",
       "    .dataframe tbody tr th {\n",
       "        vertical-align: top;\n",
       "    }\n",
       "\n",
       "    .dataframe thead th {\n",
       "        text-align: right;\n",
       "    }\n",
       "</style>\n",
       "<table border=\"1\" class=\"dataframe\">\n",
       "  <thead>\n",
       "    <tr style=\"text-align: right;\">\n",
       "      <th></th>\n",
       "      <th>author</th>\n",
       "      <th>title</th>\n",
       "      <th>grela_id</th>\n",
       "      <th>sentence_id</th>\n",
       "      <th>sentence_text</th>\n",
       "      <th>context_3sents</th>\n",
       "      <th>tokens</th>\n",
       "      <th>concordance_tokens</th>\n",
       "      <th>not_before</th>\n",
       "      <th>not_after</th>\n",
       "      <th>date_random</th>\n",
       "      <th>lagt_genre</th>\n",
       "      <th>lagt_provenience</th>\n",
       "      <th>noscemus_genre</th>\n",
       "      <th>noscemus_discipline</th>\n",
       "      <th>target_token_id</th>\n",
       "      <th>target_char_start</th>\n",
       "      <th>target_char_end</th>\n",
       "      <th>classification_single</th>\n",
       "    </tr>\n",
       "  </thead>\n",
       "  <tbody>\n",
       "    <tr>\n",
       "      <th>0</th>\n",
       "      <td>Humbertus Silvae Candidae1010-1061</td>\n",
       "      <td>Adversus Simoniacos</td>\n",
       "      <td>cc_10012</td>\n",
       "      <td>cc_10012_2812</td>\n",
       "      <td>Exploret qui potest qualiter, et qua hunc laby...</td>\n",
       "      <td>Si enim, ut philosophus allegat, qui non prohi...</td>\n",
       "      <td>[{'char_end': 8, 'char_start': 0, 'lemma': 'ex...</td>\n",
       "      <td>[{'char_end': 303, 'char_start': 299, 'lemma':...</td>\n",
       "      <td>1010.0</td>\n",
       "      <td>1061.0</td>\n",
       "      <td>1050.0</td>\n",
       "      <td>None</td>\n",
       "      <td>None</td>\n",
       "      <td>None</td>\n",
       "      <td>None</td>\n",
       "      <td>334984558</td>\n",
       "      <td>42</td>\n",
       "      <td>53</td>\n",
       "      <td>1</td>\n",
       "    </tr>\n",
       "    <tr>\n",
       "      <th>1</th>\n",
       "      <td>Petrus Damianus</td>\n",
       "      <td>Patrologia Latina, vol. 145</td>\n",
       "      <td>cc_10077</td>\n",
       "      <td>cc_10077_50</td>\n",
       "      <td>Et poenae factus est auctor, qui poenalis laby...</td>\n",
       "      <td>Protinus igitur projectus in taurum, quod infe...</td>\n",
       "      <td>[{'char_end': 2, 'char_start': 0, 'lemma': 'et...</td>\n",
       "      <td>[{'char_end': 83, 'char_start': 75, 'lemma': '...</td>\n",
       "      <td>1007.0</td>\n",
       "      <td>1072.0</td>\n",
       "      <td>1044.0</td>\n",
       "      <td>None</td>\n",
       "      <td>None</td>\n",
       "      <td>None</td>\n",
       "      <td>None</td>\n",
       "      <td>239753625</td>\n",
       "      <td>42</td>\n",
       "      <td>52</td>\n",
       "      <td>0</td>\n",
       "    </tr>\n",
       "    <tr>\n",
       "      <th>2</th>\n",
       "      <td>Rodulphus S. Trudonis</td>\n",
       "      <td>Vita S. Lietberti</td>\n",
       "      <td>cc_10161</td>\n",
       "      <td>cc_10161_32</td>\n",
       "      <td>mirantibus magistris penetrat labyrinthos Scri...</td>\n",
       "      <td>Ducitur sitibundo pectore currens ad fontem ph...</td>\n",
       "      <td>[{'char_end': 10, 'char_start': 0, 'lemma': 'm...</td>\n",
       "      <td>[{'char_end': 144, 'char_start': 136, 'lemma':...</td>\n",
       "      <td>NaN</td>\n",
       "      <td>NaN</td>\n",
       "      <td>NaN</td>\n",
       "      <td>None</td>\n",
       "      <td>None</td>\n",
       "      <td>None</td>\n",
       "      <td>None</td>\n",
       "      <td>213436689</td>\n",
       "      <td>30</td>\n",
       "      <td>41</td>\n",
       "      <td>3</td>\n",
       "    </tr>\n",
       "    <tr>\n",
       "      <th>3</th>\n",
       "      <td>Domnizo Canusinus</td>\n",
       "      <td>Vita et carmina Mathildis</td>\n",
       "      <td>cc_10261</td>\n",
       "      <td>cc_10261_892</td>\n",
       "      <td>Ista fuit, quae par habuit regemque Deumque, H...</td>\n",
       "      <td>Ista fuit, quae diripuit Paulumque Petrumque; ...</td>\n",
       "      <td>[{'char_end': 4, 'char_start': 0, 'lemma': 'is...</td>\n",
       "      <td>[{'char_end': 43, 'char_start': 40, 'lemma': '...</td>\n",
       "      <td>1130.0</td>\n",
       "      <td>1130.0</td>\n",
       "      <td>1130.0</td>\n",
       "      <td>None</td>\n",
       "      <td>None</td>\n",
       "      <td>None</td>\n",
       "      <td>None</td>\n",
       "      <td>230188102</td>\n",
       "      <td>86</td>\n",
       "      <td>97</td>\n",
       "      <td>1</td>\n",
       "    </tr>\n",
       "    <tr>\n",
       "      <th>4</th>\n",
       "      <td>Durandus Trobarnensis</td>\n",
       "      <td>Liber de corpore et sanguine Christi</td>\n",
       "      <td>cc_10298</td>\n",
       "      <td>cc_10298_920</td>\n",
       "      <td>Uerum quia quidam peruersi ex hac tanti doctor...</td>\n",
       "      <td>Xxui. | Uerum quia quidam peruersi ex hac tant...</td>\n",
       "      <td>[{'char_end': 5, 'char_start': 0, 'lemma': 'ue...</td>\n",
       "      <td>[{'char_end': 10, 'char_start': 6, 'lemma': 'q...</td>\n",
       "      <td>NaN</td>\n",
       "      <td>NaN</td>\n",
       "      <td>NaN</td>\n",
       "      <td>None</td>\n",
       "      <td>None</td>\n",
       "      <td>None</td>\n",
       "      <td>None</td>\n",
       "      <td>302696146</td>\n",
       "      <td>70</td>\n",
       "      <td>81</td>\n",
       "      <td>1</td>\n",
       "    </tr>\n",
       "  </tbody>\n",
       "</table>\n",
       "</div>"
      ]
     },
     "execution_count": 8,
     "metadata": {},
     "output_type": "execute_result"
    }
   ],
   "execution_count": 8
  },
  {
   "metadata": {
    "ExecuteTime": {
     "end_time": "2025-07-08T20:59:59.864928Z",
     "start_time": "2025-07-08T20:59:59.860585Z"
    }
   },
   "cell_type": "code",
   "source": "labyrinthus_df[\"classification_single_label\"] = labyrinthus_df[\"classification_single\"].apply(lambda x: LABEL_MAP[x])",
   "id": "80174242a675d59",
   "outputs": [],
   "execution_count": 10
  },
  {
   "metadata": {
    "ExecuteTime": {
     "end_time": "2025-07-14T00:10:06.274515Z",
     "start_time": "2025-07-14T00:10:06.270583Z"
    }
   },
   "cell_type": "code",
   "source": "labyrinthus_df[\"classification_single_label\"].value_counts()",
   "id": "afbe21afc4e5402f",
   "outputs": [
    {
     "data": {
      "text/plain": [
       "classification_single_label\n",
       "medical_anatomical       194\n",
       "mythological             183\n",
       "metaphorical_general     180\n",
       "geographical             103\n",
       "philosophical             92\n",
       "scientific_alchemical     71\n",
       "poetic                    57\n",
       "astronomical              18\n",
       "spiritual_religious       14\n",
       "historical_political       4\n",
       "Name: count, dtype: int64"
      ]
     },
     "execution_count": 12,
     "metadata": {},
     "output_type": "execute_result"
    }
   ],
   "execution_count": 12
  },
  {
   "metadata": {
    "ExecuteTime": {
     "end_time": "2025-07-14T02:08:13.519918Z",
     "start_time": "2025-07-14T02:08:13.409791Z"
    }
   },
   "cell_type": "code",
   "source": [
    "import matplotlib.pyplot as plt\n",
    "import pandas as pd\n",
    "from matplotlib import cm\n",
    "\n",
    "# Count occurrences of each label\n",
    "label_counts = labyrinthus_df[\"classification_single_label\"].value_counts()\n",
    "unique_lbls = sorted(label_counts.index)\n",
    "N = len(unique_lbls)\n",
    "\n",
    "# Define discrete color palette as before\n",
    "cmap_name = \"tab20\" if N > 10 else \"tab10\"\n",
    "cmap = cm.get_cmap(cmap_name, N)\n",
    "palette = {lbl: cmap(i) for i, lbl in enumerate(unique_lbls)}\n",
    "\n",
    "# Create the bar plot\n",
    "fig, ax = plt.subplots(figsize=(12, 5))\n",
    "bars = ax.bar(\n",
    "    [str(lbl) for lbl in label_counts.index],        # x-ticks\n",
    "    label_counts.values,                             # Heights\n",
    "    color=[palette[lbl] for lbl in label_counts.index]\n",
    ")\n",
    "\n",
    "ax.set_title(\"Distribution of classification_single_label\")\n",
    "ax.set_xlabel(\"Label\")\n",
    "ax.set_ylabel(\"Count\")\n",
    "plt.xticks(rotation=45, ha='right')\n",
    "plt.tight_layout()\n",
    "plt.show()"
   ],
   "id": "97f909fa9e43bcfb",
   "execution_count": 13,
   "outputs": [
    {
     "data": {
      "text/plain": [
       "<Figure size 1200x500 with 1 Axes>"
      ],
      "image/png": "[encoded data removed]"
     },
     "metadata": {},
     "output_type": "display_data"
    }
   ]
  },
  {
   "metadata": {
    "ExecuteTime": {
     "end_time": "2025-07-14T02:09:02.985152Z",
     "start_time": "2025-07-14T02:09:02.761420Z"
    }
   },
   "cell_type": "code",
   "source": "fig.savefig(\"../figures/labyrinthus_classification_single_label_barplot.png\", dpi=300)",
   "id": "89bd7862708008ca",
   "outputs": [],
   "execution_count": 14
  },
  {
   "metadata": {
    "ExecuteTime": {
     "end_time": "2025-07-08T21:00:02.351189Z",
     "start_time": "2025-07-08T21:00:02.273464Z"
    }
   },
   "cell_type": "code",
   "source": "labyrinthus_df.to_parquet(\"../data/labyrinthus_df_classified.parquet\")",
   "id": "ccc72cff90dbffe1",
   "outputs": [],
   "execution_count": 11
  },
  {
   "metadata": {
    "ExecuteTime": {
     "end_time": "2025-07-02T09:51:53.034872Z",
     "start_time": "2025-07-02T09:51:53.027733Z"
    }
   },
   "cell_type": "code",
   "source": "labyrinthus_df[\"classification\"] = labyrinthus_df[\"classification\"].apply(normalize_label)",
   "id": "bae0458ee4653fe3",
   "outputs": [],
   "execution_count": 201
  },
  {
   "metadata": {
    "ExecuteTime": {
     "end_time": "2025-07-02T09:51:55.217683Z",
     "start_time": "2025-07-02T09:51:55.212761Z"
    }
   },
   "cell_type": "code",
   "source": "labyrinthus_df[\"classification\"].value_counts()",
   "id": "d81f2950eab03174",
   "outputs": [
    {
     "data": {
      "text/plain": [
       "classification\n",
       "mythological-architectural     198\n",
       "medical-anatomical             154\n",
       "metaphorical-error             143\n",
       "metaphorical-poetic            102\n",
       "scientific-anatomical           77\n",
       "scientific-astronomical         36\n",
       "metaphorical-spiritual          21\n",
       "scientific-natural              18\n",
       "architectural-architectural     17\n",
       "medical-error                   14\n",
       "scientific-architectural        13\n",
       "poetic-architectural            13\n",
       "scientific-alchemical           11\n",
       "religious-spiritual              9\n",
       "metaphorical-architectural       8\n",
       "architectural                    7\n",
       "architectural-natural            7\n",
       "metaphorical-alchemical          6\n",
       "alchemical-anatomical            6\n",
       "architectural-anatomical         5\n",
       "scientific-error                 5\n",
       "medical-alchemical               4\n",
       "medical-metaphorical             3\n",
       "geographical-architectural       3\n",
       "mythological-poetic              3\n",
       "scientific-metaphorical          3\n",
       "metaphorical-philosophical       2\n",
       "poetic-historical                2\n",
       "alchemical-metaphorical          2\n",
       "alchemical-poetic                2\n",
       "philosophical-error              2\n",
       "religious-error                  2\n",
       "architectural-error              2\n",
       "historical-error                 1\n",
       "philosophical-metaphorical       1\n",
       "religious-architectural          1\n",
       "alchemical-error                 1\n",
       "scientific-medical               1\n",
       "architectural-monument           1\n",
       "astronomical-architectural       1\n",
       "philosophical-architectural      1\n",
       "architectural-acoustic           1\n",
       "geographical-natural             1\n",
       "poetic-metaphorical              1\n",
       "religious-theological            1\n",
       "metaphorical-natural             1\n",
       "mathematical-error               1\n",
       "poetic-astronomical              1\n",
       "scientific-mathematical          1\n",
       "Name: count, dtype: int64"
      ]
     },
     "execution_count": 202,
     "metadata": {},
     "output_type": "execute_result"
    }
   ],
   "execution_count": 202
  },
  {
   "metadata": {},
   "cell_type": "code",
   "outputs": [],
   "execution_count": null,
   "source": "od.to_parquet(\"../data/labyrinthus_df_classified.parquet\")",
   "id": "7ef4d0b243e15c4a"
  },
  {
   "metadata": {
    "ExecuteTime": {
     "end_time": "2025-07-03T08:28:48.821180Z",
     "start_time": "2025-07-03T08:28:48.818090Z"
    }
   },
   "cell_type": "code",
   "source": "# Re-reading classification",
   "id": "af66358e226c15d5",
   "outputs": [],
   "execution_count": 3
  },
  {
   "metadata": {
    "ExecuteTime": {
     "end_time": "2025-07-03T08:36:02.187920Z",
     "start_time": "2025-07-03T08:36:02.184943Z"
    }
   },
   "cell_type": "code",
   "source": "## re-read the data",
   "id": "e3c393b888fa8f86",
   "outputs": [],
   "execution_count": 12
  },
  {
   "metadata": {
    "ExecuteTime": {
     "end_time": "2025-07-03T08:28:38.612392Z",
     "start_time": "2025-07-03T08:28:38.486794Z"
    }
   },
   "cell_type": "code",
   "source": "labyrinthus_df = pd.read_parquet(\"../data/labyrinthus_df_classified.parquet\")",
   "id": "7a0370527910cc33",
   "execution_count": 2,
   "outputs": []
  },
  {
   "metadata": {
    "ExecuteTime": {
     "end_time": "2025-07-03T08:40:41.837727Z",
     "start_time": "2025-07-03T08:40:41.832064Z"
    }
   },
   "cell_type": "code",
   "source": [
    "labyrinthus_df = labyrinthus_df[['author', 'title', 'grela_id', 'sentence_id', 'sentence_text',\n",
    "       'context_3sents', 'tokens', 'concordance_tokens', 'classification', 'not_before',\n",
    "       'not_after', 'date_random', 'lagt_genre', 'lagt_provenience',\n",
    "       'noscemus_genre', 'noscemus_discipline', 'target_token_id',\n",
    "       'target_char_start', 'target_char_end']]"
   ],
   "id": "6051798c724be41b",
   "outputs": [],
   "execution_count": 13
  },
  {
   "metadata": {
    "ExecuteTime": {
     "end_time": "2025-07-03T08:41:01.688318Z",
     "start_time": "2025-07-03T08:41:01.460835Z"
    }
   },
   "cell_type": "code",
   "source": "labyrinthus_df.to_csv(\"../data/labyrinthus_df_classified.csv\")",
   "id": "63def9676c6f5a15",
   "outputs": [],
   "execution_count": 14
  },
  {
   "metadata": {},
   "cell_type": "code",
   "outputs": [],
   "execution_count": null,
   "source": "",
   "id": "b7139fcc31d63bbc"
  },
  {
   "metadata": {},
   "cell_type": "code",
   "outputs": [],
   "execution_count": null,
   "source": "",
   "id": "db9f59a21d8c12d3"
  },
  {
   "metadata": {},
   "cell_type": "code",
   "outputs": [],
   "execution_count": null,
   "source": "",
   "id": "a99b0afb7872ae82"
  },
  {
   "metadata": {},
   "cell_type": "code",
   "outputs": [],
   "execution_count": null,
   "source": "",
   "id": "835cc91e6dc90ce4"
  },
  {
   "metadata": {
    "ExecuteTime": {
     "end_time": "2025-07-03T08:41:04.447244Z",
     "start_time": "2025-07-03T08:41:04.440030Z"
    }
   },
   "cell_type": "code",
   "source": [
    "from sklearn.model_selection import train_test_split\n",
    "\n",
    "# First, filter to only include classifications with more than 10 cases\n",
    "class_counts = labyrinthus_df['classification'].value_counts()\n",
    "classes_with_min_cases = class_counts[class_counts > 10].index\n",
    "\n",
    "print(f\"Classifications with >10 cases: {len(classes_with_min_cases)}\")\n",
    "print(f\"Total cases in these classifications: {class_counts[classes_with_min_cases].sum()}\")\n",
    "\n",
    "# Filter the dataframe to only include these classifications\n",
    "filtered_df = labyrinthus_df[labyrinthus_df['classification'].isin(classes_with_min_cases)]\n",
    "\n"
   ],
   "id": "d0a6a94dc128228d",
   "outputs": [
    {
     "name": "stdout",
     "output_type": "stream",
     "text": [
      "Classifications with >10 cases: 13\n",
      "Total cases in these classifications: 817\n"
     ]
    }
   ],
   "execution_count": 15
  },
  {
   "metadata": {
    "ExecuteTime": {
     "end_time": "2025-07-03T08:41:06.345454Z",
     "start_time": "2025-07-03T08:41:06.338011Z"
    }
   },
   "cell_type": "code",
   "source": [
    "# Create stratified sample of 100 rows from the filtered data\n",
    "_, balanced_sample = train_test_split(\n",
    "    filtered_df,\n",
    "    test_size=100,\n",
    "    random_state=42,\n",
    "    stratify=filtered_df['classification']\n",
    ")\n"
   ],
   "id": "e3fe760dd69c9138",
   "outputs": [],
   "execution_count": 16
  },
  {
   "metadata": {
    "ExecuteTime": {
     "end_time": "2025-07-03T08:41:06.681517Z",
     "start_time": "2025-07-03T08:41:06.633444Z"
    }
   },
   "cell_type": "code",
   "source": "balanced_sample.head(5)",
   "id": "496f1e602ffd4e5c",
   "outputs": [
    {
     "data": {
      "text/plain": [
       "                      author  \\\n",
       "815     Castelli, Bartolomeo   \n",
       "221      Ennodius Ticinensis   \n",
       "62        Desiderius Erasmus   \n",
       "3          Domnizo Canusinus   \n",
       "542  Gemma-Frisius, Cornelis   \n",
       "\n",
       "                                                 title         grela_id  \\\n",
       "815  Lexicon medicum Graecolatinum Bartholomaei Cas...  noscemus_888129   \n",
       "221                   Libellus apologeticus pro synodo          cc_7757   \n",
       "62                                        Adagia1508\\n         cc_12132   \n",
       "3                            Vita et carmina Mathildis         cc_10261   \n",
       "542  De naturae divinis characterismis, seu raris e...  noscemus_718636   \n",
       "\n",
       "              sentence_id                                      sentence_text  \\\n",
       "815    noscemus_888129_35  & ceco ductore, in uastissimum scientiarum cam...   \n",
       "221           cc_7757_297  >> Post haec nos falsitatis arguitis, cur a pr...   \n",
       "62         cc_12132_29142  Labyrinthus Laburinthon, id est labyrinthum, o...   \n",
       "3            cc_10261_892  Ista fuit, quae par habuit regemque Deumque, H...   \n",
       "542  noscemus_718636_1499  saepe & textum neruosum, implicitum instar lab...   \n",
       "\n",
       "                                        context_3sents  \\\n",
       "815  Cum igitur experimento comprobauerim eos qui r...   \n",
       "221  Nouam deinde culpam, et quam inuestigatio nost...   \n",
       "62   Ii, X, 51. | Ii, X, 51. | Ii, X, 51. | Ii, X, ...   \n",
       "3    Ista fuit, quae diripuit Paulumque Petrumque; ...   \n",
       "542  I. 38 interiore sinu (si adaperias) solam inue...   \n",
       "\n",
       "                                                tokens  \\\n",
       "815  [{'char_end': 1, 'char_start': 0, 'lemma': '&'...   \n",
       "221  [{'char_end': 1, 'char_start': 0, 'lemma': '>'...   \n",
       "62   [{'char_end': 11, 'char_start': 0, 'lemma': 'l...   \n",
       "3    [{'char_end': 4, 'char_start': 0, 'lemma': 'is...   \n",
       "542  [{'char_end': 5, 'char_start': 0, 'lemma': 'sa...   \n",
       "\n",
       "                                    concordance_tokens  \\\n",
       "815  [{'char_end': 6, 'char_start': 2, 'lemma': 'ce...   \n",
       "221  [{'char_end': 100, 'char_start': 93, 'lemma': ...   \n",
       "62   [{'char_end': 39, 'char_start': 33, 'lemma': '...   \n",
       "3    [{'char_end': 43, 'char_start': 40, 'lemma': '...   \n",
       "542  [{'char_end': 69, 'char_start': 60, 'lemma': '...   \n",
       "\n",
       "                 classification  not_before  not_after  date_random  \\\n",
       "815          metaphorical-error      1598.0     1598.0       1598.0   \n",
       "221          metaphorical-error       473.0      521.0        521.0   \n",
       "62   mythological-architectural      1466.0     1536.0       1493.0   \n",
       "3            metaphorical-error      1130.0     1130.0       1130.0   \n",
       "542          medical-anatomical      1575.0     1575.0       1575.0   \n",
       "\n",
       "    lagt_genre lagt_provenience                              noscemus_genre  \\\n",
       "815       None             None                          Dictionary/Lexicon   \n",
       "221       None             None                                        None   \n",
       "62        None             None                                        None   \n",
       "3         None             None                                        None   \n",
       "542       None             None  Other (see description), Encyclopedic work   \n",
       "\n",
       "    noscemus_discipline  target_token_id  target_char_start  target_char_end  \n",
       "815            Medicine        139551870                 68               79  \n",
       "221                None        296422374                135              145  \n",
       "62                 None        255900145                  0               11  \n",
       "3                  None        230188102                 86               97  \n",
       "542            Medicine        134365920                 43               53  "
      ],
      "text/html": [
       "<div>\n",
       "<style scoped>\n",
       "    .dataframe tbody tr th:only-of-type {\n",
       "        vertical-align: middle;\n",
       "    }\n",
       "\n",
       "    .dataframe tbody tr th {\n",
       "        vertical-align: top;\n",
       "    }\n",
       "\n",
       "    .dataframe thead th {\n",
       "        text-align: right;\n",
       "    }\n",
       "</style>\n",
       "<table border=\"1\" class=\"dataframe\">\n",
       "  <thead>\n",
       "    <tr style=\"text-align: right;\">\n",
       "      <th></th>\n",
       "      <th>author</th>\n",
       "      <th>title</th>\n",
       "      <th>grela_id</th>\n",
       "      <th>sentence_id</th>\n",
       "      <th>sentence_text</th>\n",
       "      <th>context_3sents</th>\n",
       "      <th>tokens</th>\n",
       "      <th>concordance_tokens</th>\n",
       "      <th>classification</th>\n",
       "      <th>not_before</th>\n",
       "      <th>not_after</th>\n",
       "      <th>date_random</th>\n",
       "      <th>lagt_genre</th>\n",
       "      <th>lagt_provenience</th>\n",
       "      <th>noscemus_genre</th>\n",
       "      <th>noscemus_discipline</th>\n",
       "      <th>target_token_id</th>\n",
       "      <th>target_char_start</th>\n",
       "      <th>target_char_end</th>\n",
       "    </tr>\n",
       "  </thead>\n",
       "  <tbody>\n",
       "    <tr>\n",
       "      <th>815</th>\n",
       "      <td>Castelli, Bartolomeo</td>\n",
       "      <td>Lexicon medicum Graecolatinum Bartholomaei Cas...</td>\n",
       "      <td>noscemus_888129</td>\n",
       "      <td>noscemus_888129_35</td>\n",
       "      <td>&amp; ceco ductore, in uastissimum scientiarum cam...</td>\n",
       "      <td>Cum igitur experimento comprobauerim eos qui r...</td>\n",
       "      <td>[{'char_end': 1, 'char_start': 0, 'lemma': '&amp;'...</td>\n",
       "      <td>[{'char_end': 6, 'char_start': 2, 'lemma': 'ce...</td>\n",
       "      <td>metaphorical-error</td>\n",
       "      <td>1598.0</td>\n",
       "      <td>1598.0</td>\n",
       "      <td>1598.0</td>\n",
       "      <td>None</td>\n",
       "      <td>None</td>\n",
       "      <td>Dictionary/Lexicon</td>\n",
       "      <td>Medicine</td>\n",
       "      <td>139551870</td>\n",
       "      <td>68</td>\n",
       "      <td>79</td>\n",
       "    </tr>\n",
       "    <tr>\n",
       "      <th>221</th>\n",
       "      <td>Ennodius Ticinensis</td>\n",
       "      <td>Libellus apologeticus pro synodo</td>\n",
       "      <td>cc_7757</td>\n",
       "      <td>cc_7757_297</td>\n",
       "      <td>&gt;&gt; Post haec nos falsitatis arguitis, cur a pr...</td>\n",
       "      <td>Nouam deinde culpam, et quam inuestigatio nost...</td>\n",
       "      <td>[{'char_end': 1, 'char_start': 0, 'lemma': '&gt;'...</td>\n",
       "      <td>[{'char_end': 100, 'char_start': 93, 'lemma': ...</td>\n",
       "      <td>metaphorical-error</td>\n",
       "      <td>473.0</td>\n",
       "      <td>521.0</td>\n",
       "      <td>521.0</td>\n",
       "      <td>None</td>\n",
       "      <td>None</td>\n",
       "      <td>None</td>\n",
       "      <td>None</td>\n",
       "      <td>296422374</td>\n",
       "      <td>135</td>\n",
       "      <td>145</td>\n",
       "    </tr>\n",
       "    <tr>\n",
       "      <th>62</th>\n",
       "      <td>Desiderius Erasmus</td>\n",
       "      <td>Adagia1508\\n</td>\n",
       "      <td>cc_12132</td>\n",
       "      <td>cc_12132_29142</td>\n",
       "      <td>Labyrinthus Laburinthon, id est labyrinthum, o...</td>\n",
       "      <td>Ii, X, 51. | Ii, X, 51. | Ii, X, 51. | Ii, X, ...</td>\n",
       "      <td>[{'char_end': 11, 'char_start': 0, 'lemma': 'l...</td>\n",
       "      <td>[{'char_end': 39, 'char_start': 33, 'lemma': '...</td>\n",
       "      <td>mythological-architectural</td>\n",
       "      <td>1466.0</td>\n",
       "      <td>1536.0</td>\n",
       "      <td>1493.0</td>\n",
       "      <td>None</td>\n",
       "      <td>None</td>\n",
       "      <td>None</td>\n",
       "      <td>None</td>\n",
       "      <td>255900145</td>\n",
       "      <td>0</td>\n",
       "      <td>11</td>\n",
       "    </tr>\n",
       "    <tr>\n",
       "      <th>3</th>\n",
       "      <td>Domnizo Canusinus</td>\n",
       "      <td>Vita et carmina Mathildis</td>\n",
       "      <td>cc_10261</td>\n",
       "      <td>cc_10261_892</td>\n",
       "      <td>Ista fuit, quae par habuit regemque Deumque, H...</td>\n",
       "      <td>Ista fuit, quae diripuit Paulumque Petrumque; ...</td>\n",
       "      <td>[{'char_end': 4, 'char_start': 0, 'lemma': 'is...</td>\n",
       "      <td>[{'char_end': 43, 'char_start': 40, 'lemma': '...</td>\n",
       "      <td>metaphorical-error</td>\n",
       "      <td>1130.0</td>\n",
       "      <td>1130.0</td>\n",
       "      <td>1130.0</td>\n",
       "      <td>None</td>\n",
       "      <td>None</td>\n",
       "      <td>None</td>\n",
       "      <td>None</td>\n",
       "      <td>230188102</td>\n",
       "      <td>86</td>\n",
       "      <td>97</td>\n",
       "    </tr>\n",
       "    <tr>\n",
       "      <th>542</th>\n",
       "      <td>Gemma-Frisius, Cornelis</td>\n",
       "      <td>De naturae divinis characterismis, seu raris e...</td>\n",
       "      <td>noscemus_718636</td>\n",
       "      <td>noscemus_718636_1499</td>\n",
       "      <td>saepe &amp; textum neruosum, implicitum instar lab...</td>\n",
       "      <td>I. 38 interiore sinu (si adaperias) solam inue...</td>\n",
       "      <td>[{'char_end': 5, 'char_start': 0, 'lemma': 'sa...</td>\n",
       "      <td>[{'char_end': 69, 'char_start': 60, 'lemma': '...</td>\n",
       "      <td>medical-anatomical</td>\n",
       "      <td>1575.0</td>\n",
       "      <td>1575.0</td>\n",
       "      <td>1575.0</td>\n",
       "      <td>None</td>\n",
       "      <td>None</td>\n",
       "      <td>Other (see description), Encyclopedic work</td>\n",
       "      <td>Medicine</td>\n",
       "      <td>134365920</td>\n",
       "      <td>43</td>\n",
       "      <td>53</td>\n",
       "    </tr>\n",
       "  </tbody>\n",
       "</table>\n",
       "</div>"
      ]
     },
     "execution_count": 17,
     "metadata": {},
     "output_type": "execute_result"
    }
   ],
   "execution_count": 17
  },
  {
   "metadata": {
    "ExecuteTime": {
     "end_time": "2025-07-03T08:41:45.449346Z",
     "start_time": "2025-07-03T08:41:45.414336Z"
    }
   },
   "cell_type": "code",
   "source": "balanced_sample.to_csv(\"../data/labyrinthus_df_balanced_sample.csv\")",
   "id": "808db9e00a4167c3",
   "outputs": [],
   "execution_count": 18
  },
  {
   "metadata": {},
   "cell_type": "code",
   "outputs": [],
   "execution_count": null,
   "source": [
    "def _layer_feats(row, layer, token_type=\"regular\"):\n",
    "    \"\"\"\n",
    "    Extract layer features for different token types.\n",
    "    \n",
    "    Parameters:\n",
    "    -----------\n",
    "    row : pd.Series\n",
    "        DataFrame row containing the token data\n",
    "    layer : int\n",
    "        Layer number to extract features from\n",
    "    token_type : str\n",
    "        Either \"regular\" or \"concordance\" to specify which tokens to use\n",
    "    \n",
    "    Returns:\n",
    "    --------\n",
    "    pd.Series with embedding and attention features\n",
    "    \"\"\"\n",
    "    if token_type == \"regular\":\n",
    "        aug_tokens_col = \"xlmr_aug_tokens\"\n",
    "        sent_str_col = \"xlmr_sentence\"\n",
    "        embed_col = f\"embed_l{layer}\"\n",
    "        att_col = f\"att_l{layer}\"\n",
    "    elif token_type == \"concordance\":\n",
    "        aug_tokens_col = \"xlmr_conc_aug_tokens\"\n",
    "        sent_str_col = \"xlmr_conc_text\"\n",
    "        embed_col = f\"embed_conc_l{layer}\"\n",
    "        att_col = f\"att_conc_l{layer}\"\n",
    "    else:\n",
    "        raise ValueError(\"token_type must be 'regular' or 'concordance'\")\n",
    "    \n",
    "    emb = hidden_anchor_embedding(\n",
    "        aug_tokens   = row[aug_tokens_col],\n",
    "        sent_str     = row[sent_str_col],\n",
    "        tokenizer    = tokenizer,\n",
    "        model        = model,\n",
    "        device       = DEVICE,\n",
    "        target_lemma = \"labyrinthus\",\n",
    "        layer_idx    = layer,\n",
    "        piece_pooling= \"mean\",\n",
    "    )\n",
    "    att = attention_weights_by_lemma(\n",
    "        aug_tokens   = row[aug_tokens_col],\n",
    "        sent_str     = row[sent_str_col],\n",
    "        tokenizer    = tokenizer,\n",
    "        model        = model,\n",
    "        device       = DEVICE,\n",
    "        target_lemma = \"labyrinthus\",\n",
    "        att_layer    = layer,\n",
    "    )\n",
    "    return pd.Series({embed_col: emb, att_col: att})\n",
    "\n",
    "# Generate features for regular tokens\n",
    "for L in range(5, 12):           # layers 5-11\n",
    "    labyrinthus_df[[f\"embed_l{L}\", f\"att_l{L}\"]] = (\n",
    "        labyrinthus_df.apply(_layer_feats, layer=L, token_type=\"regular\", axis=1)\n",
    "    )\n",
    "\n",
    "# Generate features for concordance tokens\n",
    "for L in range(5, 12):           # layers 5-11\n",
    "    labyrinthus_df[[f\"embed_conc_l{L}\", f\"att_conc_l{L}\"]] = (\n",
    "        labyrinthus_df.apply(_layer_feats, layer=L, token_type=\"concordance\", axis=1)\n",
    "    )\n"
   ],
   "id": "c14dfe6ff2ffc432"
  }
 ],
 "metadata": {
  "kernelspec": {
   "display_name": "latin_global_kernel",
   "language": "python",
   "name": "latin_global_kernel"
  },
  "language_info": {
   "codemirror_mode": {
    "name": "ipython",
    "version": 3
   },
   "file_extension": ".py",
   "mimetype": "text/x-python",
   "name": "python",
   "nbconvert_exporter": "python",
   "pygments_lexer": "ipython3",
   "version": "3.10.12"
  }
 },
 "nbformat": 4,
 "nbformat_minor": 5
}
