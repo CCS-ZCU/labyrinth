{
 "cells": [
  {
   "cell_type": "code",
   "id": "aa7c961cfbf8ce2c",
   "metadata": {
    "ExecuteTime": {
     "end_time": "2025-06-21T13:13:34.843775Z",
     "start_time": "2025-06-21T13:13:32.570061Z"
    }
   },
   "source": [
    "# import basic libraries\n",
    "import os\n",
    "import json\n",
    "import sys\n",
    "import huggingface_hub\n",
    "import numpy as np\n",
    "import pandas as pd\n",
    "import re\n",
    "import random\n",
    "import torch\n",
    "from sklearn.metrics.pairwise import cosine_similarity\n",
    "from sklearn.manifold import TSNE\n",
    "import pickle\n",
    "import matplotlib.pyplot as plt\n",
    "import plotly.graph_objects as go\n",
    "from collections import Counter\n",
    "import plotly.io as pio\n",
    "import pyperclip\n",
    "from sklearn.cluster import KMeans\n",
    "import importlib.util\n",
    "from pathlib import Path\n",
    "from collections import Counter\n",
    "\n",
    "import gspread\n",
    "from gspread_dataframe import get_as_dataframe, set_with_dataframe\n",
    "from google.oauth2 import service_account # based on google-auth library"
   ],
   "outputs": [],
   "execution_count": 1
  },
  {
   "metadata": {},
   "cell_type": "markdown",
   "source": "## Target sentences extraction - skip to next",
   "id": "38b7d942d1489ada"
  },
  {
   "cell_type": "code",
   "id": "bf1be5a5f043ace8",
   "metadata": {
    "ExecuteTime": {
     "end_time": "2025-06-21T13:13:37.186565Z",
     "start_time": "2025-06-21T13:13:37.181235Z"
    }
   },
   "source": [
    "def get_sentence_data(source_name, target_lemma, target_pos, path):\n",
    "    target_sentences = []  \n",
    "    fns = os.listdir(path)\n",
    "    for fn in fns:\n",
    "        sents_data = json.load(open(path + fn, \"rb\"))\n",
    "        if target_pos==None:\n",
    "            for sent_data in sents_data:\n",
    "                if \"VERB\" in [token_data[2] for token_data in sent_data[3]]:\n",
    "                    for token_data in sent_data[3]:\n",
    "                        if token_data[1] == target_lemma:\n",
    "                            sent = [source_name] + sent_data\n",
    "                            target_sentences.append(sent)\n",
    "                            break\n",
    "        else:\n",
    "            for sent_data in sents_data:\n",
    "                if \"VERB\" in [token_data[2] for token_data in sent_data[3]]:\n",
    "                    for token_data in sent_data[3]:\n",
    "                        if token_data[1] == target_lemma and token_data[2] == target_pos:\n",
    "                            sent = [source_name] + sent_data\n",
    "                            target_sentences.append(sent)\n",
    "                            break\n",
    "    return target_sentences"
   ],
   "outputs": [],
   "execution_count": 2
  },
  {
   "metadata": {
    "ExecuteTime": {
     "end_time": "2025-06-21T21:32:28.447601Z",
     "start_time": "2025-06-21T21:28:40.418137Z"
    }
   },
   "cell_type": "code",
   "source": [
    "%%time\n",
    "target_lemma = \"labyrinthus\"\n",
    "target_pos = None\n",
    "tar_sents_emlap = get_sentence_data(\"emlap\", target_lemma, target_pos, \"/srv/data/tome/tome-corpus/sents_data_id_jsons_v3-0/\")\n",
    "tar_sents_noscemus = get_sentence_data(\"noscemus\", target_lemma, target_pos, \"/srv/data/tome/noscemus/sents_data_jsons/\")\n",
    "tar_sents_cc = get_sentence_data(\"cc\", target_lemma, target_pos, \"/srv/data/corpus-corporum/cc_sents_jsons/\")\n",
    "lab_tar_sents = tar_sents_emlap + tar_sents_noscemus + tar_sents_cc"
   ],
   "id": "8cf715c2d3dc8726",
   "outputs": [
    {
     "name": "stdout",
     "output_type": "stream",
     "text": [
      "CPU times: user 3min 42s, sys: 4.84 s, total: 3min 46s\n",
      "Wall time: 3min 48s\n"
     ]
    }
   ],
   "execution_count": 9
  },
  {
   "metadata": {
    "ExecuteTime": {
     "end_time": "2025-06-21T21:32:28.451899Z",
     "start_time": "2025-06-21T21:32:28.448841Z"
    }
   },
   "cell_type": "code",
   "source": "len(lab_tar_sents)",
   "id": "9e804c3da27c9bac",
   "outputs": [
    {
     "data": {
      "text/plain": [
       "837"
      ]
     },
     "execution_count": 10,
     "metadata": {},
     "output_type": "execute_result"
    }
   ],
   "execution_count": 10
  },
  {
   "metadata": {
    "ExecuteTime": {
     "end_time": "2025-06-21T21:33:25.214519Z",
     "start_time": "2025-06-21T21:33:25.180344Z"
    }
   },
   "cell_type": "code",
   "source": "pickle.dump(lab_tar_sents, open(\"../data/labyrinthus_sents_data.pkl\", \"wb\"))",
   "id": "d392da73689a7f1f",
   "outputs": [],
   "execution_count": 11
  },
  {
   "metadata": {
    "ExecuteTime": {
     "end_time": "2025-06-21T21:35:08.985208Z",
     "start_time": "2025-06-21T21:35:08.972800Z"
    }
   },
   "cell_type": "code",
   "source": "lab_tar_sents_df = pd.DataFrame(lab_tar_sents)",
   "id": "991b9323a685e414",
   "outputs": [],
   "execution_count": 12
  },
  {
   "metadata": {
    "ExecuteTime": {
     "end_time": "2025-06-21T21:35:09.711848Z",
     "start_time": "2025-06-21T21:35:09.666885Z"
    }
   },
   "cell_type": "code",
   "source": "lab_tar_sents_df.to_csv(\"../data/lab_tar_sents_df.csv\")",
   "id": "5a12c8561488a93a",
   "outputs": [],
   "execution_count": 13
  },
  {
   "metadata": {},
   "cell_type": "code",
   "outputs": [],
   "execution_count": null,
   "source": "len(lab_tar_sents_df)",
   "id": "e33225a229f13d98"
  },
  {
   "metadata": {
    "ExecuteTime": {
     "end_time": "2025-06-05T06:43:51.907060Z",
     "start_time": "2025-06-05T06:36:00.254845Z"
    }
   },
   "cell_type": "code",
   "source": [
    "%%time\n",
    "target_lemma = \"Ariadne\"\n",
    "target_pos = None\n",
    "tar_sents_emlap = get_sentence_data(\"emlap\", target_lemma, target_pos, \"/srv/data/tome/tome-corpus/sents_data_id_jsons_v3-0/\")\n",
    "tar_sents_noscemus = get_sentence_data(\"noscemus\", target_lemma, target_pos, \"/srv/data/tome/noscemus/sents_data_jsons/\")\n",
    "tar_sents_cc = get_sentence_data(\"cc\", target_lemma, target_pos, \"/srv/data/corpus-corporum/cc_sents_jsons/\")\n",
    "ariadne_tar_sents = tar_sents_emlap + tar_sents_noscemus + tar_sents_cc"
   ],
   "id": "81d0a48c62af4cf6",
   "outputs": [
    {
     "name": "stdout",
     "output_type": "stream",
     "text": [
      "CPU times: user 7min 34s, sys: 17.2 s, total: 7min 51s\n",
      "Wall time: 7min 51s\n"
     ]
    }
   ],
   "execution_count": 18
  },
  {
   "metadata": {
    "ExecuteTime": {
     "end_time": "2025-06-05T06:35:48.607771Z",
     "start_time": "2025-06-05T06:35:48.592436Z"
    }
   },
   "cell_type": "code",
   "source": "len(ariadne_tar_sents)",
   "id": "9c718a2e8e551e45",
   "outputs": [
    {
     "ename": "NameError",
     "evalue": "name 'ariadne_tar_sents' is not defined",
     "output_type": "error",
     "traceback": [
      "\u001B[0;31m---------------------------------------------------------------------------\u001B[0m",
      "\u001B[0;31mNameError\u001B[0m                                 Traceback (most recent call last)",
      "Cell \u001B[0;32mIn[17], line 1\u001B[0m\n\u001B[0;32m----> 1\u001B[0m \u001B[38;5;28mlen\u001B[39m(\u001B[43mariadne_tar_sents\u001B[49m)\n",
      "\u001B[0;31mNameError\u001B[0m: name 'ariadne_tar_sents' is not defined"
     ]
    }
   ],
   "execution_count": 17
  },
  {
   "metadata": {},
   "cell_type": "code",
   "outputs": [],
   "execution_count": null,
   "source": "",
   "id": "6f4f70dc9ac2335"
  },
  {
   "cell_type": "code",
   "id": "dc0fd4d91bcfc5c4",
   "metadata": {
    "ExecuteTime": {
     "end_time": "2024-11-06T21:16:54.956847Z",
     "start_time": "2024-11-06T21:16:40.731284Z"
    }
   },
   "source": "pickle.dump(ariadne_tar_sents, open(\"../data/ariadne_sents_data\", \"wb\"))",
   "outputs": [],
   "execution_count": 27
  }
 ],
 "metadata": {
  "kernelspec": {
   "display_name": "latin_global_kernel",
   "language": "python",
   "name": "latin_global_kernel"
  },
  "language_info": {
   "codemirror_mode": {
    "name": "ipython",
    "version": 3
   },
   "file_extension": ".py",
   "mimetype": "text/x-python",
   "name": "python",
   "nbconvert_exporter": "python",
   "pygments_lexer": "ipython3",
   "version": "3.10.12"
  }
 },
 "nbformat": 4,
 "nbformat_minor": 5
}
