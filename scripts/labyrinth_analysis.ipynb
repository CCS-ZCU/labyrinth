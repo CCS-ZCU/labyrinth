{
 "cells": [
  {
   "cell_type": "code",
   "id": "aa7c961cfbf8ce2c",
   "metadata": {
    "ExecuteTime": {
     "end_time": "2025-06-30T20:31:03.170515Z",
     "start_time": "2025-06-30T20:31:01.264531Z"
    }
   },
   "source": [
    "# import basic libraries\n",
    "import os\n",
    "import json\n",
    "import sys\n",
    "import huggingface_hub\n",
    "import numpy as np\n",
    "import pandas as pd\n",
    "import re\n",
    "import random\n",
    "import torch\n",
    "import requests\n",
    "from sklearn.metrics.pairwise import cosine_similarity\n",
    "from sklearn.manifold import TSNE\n",
    "import pickle\n",
    "import matplotlib.pyplot as plt\n",
    "import plotly.graph_objects as go\n",
    "from collections import Counter\n",
    "import plotly.io as pio\n",
    "import pyperclip\n",
    "from sklearn.cluster import KMeans\n",
    "import importlib.util\n",
    "from pathlib import Path\n",
    "from collections import Counter\n",
    "\n",
    "import gspread\n",
    "from gspread_dataframe import get_as_dataframe, set_with_dataframe\n",
    "from google.oauth2 import service_account # based on google-auth library"
   ],
   "outputs": [],
   "execution_count": 1
  },
  {
   "metadata": {
    "ExecuteTime": {
     "end_time": "2025-06-30T20:31:14.554749Z",
     "start_time": "2025-06-30T20:31:04.108734Z"
    }
   },
   "cell_type": "code",
   "source": [
    "from sentence_transformers import SentenceTransformer\n",
    "sentence_model = SentenceTransformer('sentence-transformers/LaBSE')\n"
   ],
   "id": "b542b6747f39695b",
   "outputs": [
    {
     "name": "stderr",
     "output_type": "stream",
     "text": [
      "2025-06-30 22:31:06.794748: I tensorflow/core/util/port.cc:153] oneDNN custom operations are on. You may see slightly different numerical results due to floating-point round-off errors from different computation orders. To turn them off, set the environment variable `TF_ENABLE_ONEDNN_OPTS=0`.\n",
      "2025-06-30 22:31:06.932465: E external/local_xla/xla/stream_executor/cuda/cuda_fft.cc:467] Unable to register cuFFT factory: Attempting to register factory for plugin cuFFT when one has already been registered\n",
      "WARNING: All log messages before absl::InitializeLog() is called are written to STDERR\n",
      "E0000 00:00:1751315466.991148  505444 cuda_dnn.cc:8579] Unable to register cuDNN factory: Attempting to register factory for plugin cuDNN when one has already been registered\n",
      "E0000 00:00:1751315467.008164  505444 cuda_blas.cc:1407] Unable to register cuBLAS factory: Attempting to register factory for plugin cuBLAS when one has already been registered\n",
      "W0000 00:00:1751315467.119908  505444 computation_placer.cc:177] computation placer already registered. Please check linkage and avoid linking the same target more than once.\n",
      "W0000 00:00:1751315467.119948  505444 computation_placer.cc:177] computation placer already registered. Please check linkage and avoid linking the same target more than once.\n",
      "W0000 00:00:1751315467.119950  505444 computation_placer.cc:177] computation placer already registered. Please check linkage and avoid linking the same target more than once.\n",
      "W0000 00:00:1751315467.119952  505444 computation_placer.cc:177] computation placer already registered. Please check linkage and avoid linking the same target more than once.\n",
      "2025-06-30 22:31:07.134406: I tensorflow/core/platform/cpu_feature_guard.cc:210] This TensorFlow binary is optimized to use available CPU instructions in performance-critical operations.\n",
      "To enable the following instructions: AVX2 AVX512F AVX512_VNNI AVX512_BF16 AVX512_FP16 AVX_VNNI AMX_TILE AMX_INT8 AMX_BF16 FMA, in other operations, rebuild TensorFlow with the appropriate compiler flags.\n"
     ]
    }
   ],
   "execution_count": 2
  },
  {
   "metadata": {
    "ExecuteTime": {
     "end_time": "2025-06-30T22:03:03.856955Z",
     "start_time": "2025-06-30T22:03:03.827182Z"
    }
   },
   "cell_type": "code",
   "source": [
    "labyrinthus_df = pd.read_csv(\"../data/labyrinthus_grela.csv\")\n",
    "labyrinthus_df.head(5)\n"
   ],
   "id": "ccc14f53a469b915",
   "outputs": [
    {
     "data": {
      "text/plain": [
       "   Unnamed: 0            sentence_id         grela_id   token_text  \\\n",
       "0           0  noscemus_607725_23015  noscemus_607725  Labyrinthum   \n",
       "1           1  noscemus_732034_21345  noscemus_732034   labyrintho   \n",
       "2           2    noscemus_928135_286  noscemus_928135  labyrinthos   \n",
       "3           3   noscemus_732630_8837  noscemus_732630   Labyrintho   \n",
       "4           4      emlap_100045_1368     emlap_100045  labyrinthum   \n",
       "\n",
       "         lemma pos_tag  char_start  char_end  \\\n",
       "0  labyrinthus   PROPN        35.0      46.0   \n",
       "1  labyrinthus    NOUN        83.0      93.0   \n",
       "2  labyrinthus    NOUN       115.0     126.0   \n",
       "3  labyrinthus   PROPN        86.0      96.0   \n",
       "4  labyrinthus    NOUN       176.0     187.0   \n",
       "\n",
       "                                       sentence_text  sentence_position  ...  \\\n",
       "0  Fotamen ad secundam cauernam, siue Labyrinthum...            23015.0  ...   \n",
       "1  Um operi huic summa cura insistenti complures ...            21345.0  ...   \n",
       "2  In hac tamen parte, quae motus locales partium...              286.0  ...   \n",
       "3  Scio tamen eum in Logicis aliquid scripsisse, ...             8837.0  ...   \n",
       "4  Sed postquam hominum sapiendi per seipsos uanu...             1368.0  ...   \n",
       "\n",
       "               title_short emlap_noscemus_id place_publication place_geonames  \\\n",
       "0                      NaN               NaN               NaN            NaN   \n",
       "1                      NaN               NaN               NaN            NaN   \n",
       "2                      NaN               NaN               NaN            NaN   \n",
       "3                      NaN               NaN               NaN            NaN   \n",
       "4  De naturae luce physica               NaN         Frankfurt            NaN   \n",
       "\n",
       "   author_viaf  title_viaf  date_random  \\\n",
       "0          NaN         NaN       1627.0   \n",
       "1          NaN         NaN       1665.0   \n",
       "2          NaN         NaN       1609.0   \n",
       "3          NaN         NaN       1668.0   \n",
       "4          NaN         NaN       1583.0   \n",
       "\n",
       "                                      context_3sents  \\\n",
       "0  Nerui optici portio. | Fotamen ad secundam cau...   \n",
       "1  Praefatio. | Um operi huic summa cura insisten...   \n",
       "2  eo quoque rationum robore in muniendis suis de...   \n",
       "3  An aliquid recens publico dederit, mer latet, ...   \n",
       "4  Dubium non est, quin Deus antiquis patribus me...   \n",
       "\n",
       "                                         concordance target_token  \n",
       "0  Fotamen ad secundam cauernam , siue Labyrinthu...  Labyrinthum  \n",
       "1  Um operi huic summa cura insistenti complures ...   labyrintho  \n",
       "2  In hac tamen parte , quae motus locales partiu...  labyrinthos  \n",
       "3  Scio tamen eum in Logicis aliquid scripsisse ,...   Labyrintho  \n",
       "4  Sed postquam hominum sapiendi per seipsos uanu...  labyrinthum  \n",
       "\n",
       "[5 rows x 32 columns]"
      ],
      "text/html": [
       "<div>\n",
       "<style scoped>\n",
       "    .dataframe tbody tr th:only-of-type {\n",
       "        vertical-align: middle;\n",
       "    }\n",
       "\n",
       "    .dataframe tbody tr th {\n",
       "        vertical-align: top;\n",
       "    }\n",
       "\n",
       "    .dataframe thead th {\n",
       "        text-align: right;\n",
       "    }\n",
       "</style>\n",
       "<table border=\"1\" class=\"dataframe\">\n",
       "  <thead>\n",
       "    <tr style=\"text-align: right;\">\n",
       "      <th></th>\n",
       "      <th>Unnamed: 0</th>\n",
       "      <th>sentence_id</th>\n",
       "      <th>grela_id</th>\n",
       "      <th>token_text</th>\n",
       "      <th>lemma</th>\n",
       "      <th>pos_tag</th>\n",
       "      <th>char_start</th>\n",
       "      <th>char_end</th>\n",
       "      <th>sentence_text</th>\n",
       "      <th>sentence_position</th>\n",
       "      <th>...</th>\n",
       "      <th>title_short</th>\n",
       "      <th>emlap_noscemus_id</th>\n",
       "      <th>place_publication</th>\n",
       "      <th>place_geonames</th>\n",
       "      <th>author_viaf</th>\n",
       "      <th>title_viaf</th>\n",
       "      <th>date_random</th>\n",
       "      <th>context_3sents</th>\n",
       "      <th>concordance</th>\n",
       "      <th>target_token</th>\n",
       "    </tr>\n",
       "  </thead>\n",
       "  <tbody>\n",
       "    <tr>\n",
       "      <th>0</th>\n",
       "      <td>0</td>\n",
       "      <td>noscemus_607725_23015</td>\n",
       "      <td>noscemus_607725</td>\n",
       "      <td>Labyrinthum</td>\n",
       "      <td>labyrinthus</td>\n",
       "      <td>PROPN</td>\n",
       "      <td>35.0</td>\n",
       "      <td>46.0</td>\n",
       "      <td>Fotamen ad secundam cauernam, siue Labyrinthum...</td>\n",
       "      <td>23015.0</td>\n",
       "      <td>...</td>\n",
       "      <td>NaN</td>\n",
       "      <td>NaN</td>\n",
       "      <td>NaN</td>\n",
       "      <td>NaN</td>\n",
       "      <td>NaN</td>\n",
       "      <td>NaN</td>\n",
       "      <td>1627.0</td>\n",
       "      <td>Nerui optici portio. | Fotamen ad secundam cau...</td>\n",
       "      <td>Fotamen ad secundam cauernam , siue Labyrinthu...</td>\n",
       "      <td>Labyrinthum</td>\n",
       "    </tr>\n",
       "    <tr>\n",
       "      <th>1</th>\n",
       "      <td>1</td>\n",
       "      <td>noscemus_732034_21345</td>\n",
       "      <td>noscemus_732034</td>\n",
       "      <td>labyrintho</td>\n",
       "      <td>labyrinthus</td>\n",
       "      <td>NOUN</td>\n",
       "      <td>83.0</td>\n",
       "      <td>93.0</td>\n",
       "      <td>Um operi huic summa cura insistenti complures ...</td>\n",
       "      <td>21345.0</td>\n",
       "      <td>...</td>\n",
       "      <td>NaN</td>\n",
       "      <td>NaN</td>\n",
       "      <td>NaN</td>\n",
       "      <td>NaN</td>\n",
       "      <td>NaN</td>\n",
       "      <td>NaN</td>\n",
       "      <td>1665.0</td>\n",
       "      <td>Praefatio. | Um operi huic summa cura insisten...</td>\n",
       "      <td>Um operi huic summa cura insistenti complures ...</td>\n",
       "      <td>labyrintho</td>\n",
       "    </tr>\n",
       "    <tr>\n",
       "      <th>2</th>\n",
       "      <td>2</td>\n",
       "      <td>noscemus_928135_286</td>\n",
       "      <td>noscemus_928135</td>\n",
       "      <td>labyrinthos</td>\n",
       "      <td>labyrinthus</td>\n",
       "      <td>NOUN</td>\n",
       "      <td>115.0</td>\n",
       "      <td>126.0</td>\n",
       "      <td>In hac tamen parte, quae motus locales partium...</td>\n",
       "      <td>286.0</td>\n",
       "      <td>...</td>\n",
       "      <td>NaN</td>\n",
       "      <td>NaN</td>\n",
       "      <td>NaN</td>\n",
       "      <td>NaN</td>\n",
       "      <td>NaN</td>\n",
       "      <td>NaN</td>\n",
       "      <td>1609.0</td>\n",
       "      <td>eo quoque rationum robore in muniendis suis de...</td>\n",
       "      <td>In hac tamen parte , quae motus locales partiu...</td>\n",
       "      <td>labyrinthos</td>\n",
       "    </tr>\n",
       "    <tr>\n",
       "      <th>3</th>\n",
       "      <td>3</td>\n",
       "      <td>noscemus_732630_8837</td>\n",
       "      <td>noscemus_732630</td>\n",
       "      <td>Labyrintho</td>\n",
       "      <td>labyrinthus</td>\n",
       "      <td>PROPN</td>\n",
       "      <td>86.0</td>\n",
       "      <td>96.0</td>\n",
       "      <td>Scio tamen eum in Logicis aliquid scripsisse, ...</td>\n",
       "      <td>8837.0</td>\n",
       "      <td>...</td>\n",
       "      <td>NaN</td>\n",
       "      <td>NaN</td>\n",
       "      <td>NaN</td>\n",
       "      <td>NaN</td>\n",
       "      <td>NaN</td>\n",
       "      <td>NaN</td>\n",
       "      <td>1668.0</td>\n",
       "      <td>An aliquid recens publico dederit, mer latet, ...</td>\n",
       "      <td>Scio tamen eum in Logicis aliquid scripsisse ,...</td>\n",
       "      <td>Labyrintho</td>\n",
       "    </tr>\n",
       "    <tr>\n",
       "      <th>4</th>\n",
       "      <td>4</td>\n",
       "      <td>emlap_100045_1368</td>\n",
       "      <td>emlap_100045</td>\n",
       "      <td>labyrinthum</td>\n",
       "      <td>labyrinthus</td>\n",
       "      <td>NOUN</td>\n",
       "      <td>176.0</td>\n",
       "      <td>187.0</td>\n",
       "      <td>Sed postquam hominum sapiendi per seipsos uanu...</td>\n",
       "      <td>1368.0</td>\n",
       "      <td>...</td>\n",
       "      <td>De naturae luce physica</td>\n",
       "      <td>NaN</td>\n",
       "      <td>Frankfurt</td>\n",
       "      <td>NaN</td>\n",
       "      <td>NaN</td>\n",
       "      <td>NaN</td>\n",
       "      <td>1583.0</td>\n",
       "      <td>Dubium non est, quin Deus antiquis patribus me...</td>\n",
       "      <td>Sed postquam hominum sapiendi per seipsos uanu...</td>\n",
       "      <td>labyrinthum</td>\n",
       "    </tr>\n",
       "  </tbody>\n",
       "</table>\n",
       "<p>5 rows × 32 columns</p>\n",
       "</div>"
      ]
     },
     "execution_count": 53,
     "metadata": {},
     "output_type": "execute_result"
    }
   ],
   "execution_count": 53
  },
  {
   "metadata": {
    "ExecuteTime": {
     "end_time": "2025-06-30T23:59:26.987073Z",
     "start_time": "2025-06-30T23:59:22.237113Z"
    }
   },
   "cell_type": "code",
   "source": [
    "SYSTEM = \"\"\"\n",
    "You are a Latin philologist and semantic analyst. You are classifying how the word 'labyrinthus' is used in context.\n",
    "\n",
    "Respond with a single lowercase label (1–2 words, no punctuation) that best describes the semantic sense of the term:\n",
    "\n",
    "\"\"\".strip()\n",
    "\n",
    "FEWSHOT = \"\"\"\n",
    "Passage:\n",
    "Labyrinthum erroris intexat.\n",
    "Label: error\n",
    "\n",
    "Passage:\n",
    "In quo quicunque notitiam aliquam Trinitatis ... labyrinthum diuinae reuelationis ingreditur.\n",
    "Label: theological\n",
    "\n",
    "Passage:\n",
    "Unde praemonendum puto ... ne quis irrationabili aestimet voluptate ... labyrinthum erroris intexat.\n",
    "Label: metaphor\n",
    "\n",
    "Passage:\n",
    "inter corticem et lignum, Habitat in truncis Pini, ubi labyrinthos format ...\n",
    "Label: natural\n",
    "\n",
    "Passage:\n",
    "Jauditoria Arteria Interna ... in labyrinthi cauitatem intrat ...\n",
    "Label: anatomical\n",
    "\n",
    "Passage:\n",
    "{0}\n",
    "Label:\n",
    "\"\"\".strip()\n",
    "\n",
    "def classify_labyrinthus(passage):\n",
    "    # Handle NaN or None values\n",
    "    if pd.isna(passage) or passage is None:\n",
    "        return \"unknown\"\n",
    "\n",
    "    # Ensure passage is a string\n",
    "    passage = str(passage)\n",
    "\n",
    "    url = \"http://localhost:11434/api/generate\"\n",
    "    prompt = FEWSHOT.format(passage.strip())\n",
    "    payload = {\n",
    "        \"model\": \"llama3.1:70b\",\n",
    "        \"system\": SYSTEM,\n",
    "        \"prompt\": prompt,\n",
    "        \"options\": {\n",
    "            \"temperature\": 0,\n",
    "            \"num_predict\": 5\n",
    "        },\n",
    "        \"stream\": False\n",
    "    }\n",
    "    response = requests.post(url, json=payload)\n",
    "    if response.status_code == 200:\n",
    "        return response.json()[\"response\"].strip().lower()\n",
    "    else:\n",
    "        print(f\"Error {response.status_code}: {response.text}\")\n",
    "        return None\n",
    "\n",
    "\n",
    "classify_labyrinthus(labyrinthus_df.sample()[\"context_3sents\"].iloc[0])"
   ],
   "id": "69f7ad64c28f4650",
   "outputs": [
    {
     "data": {
      "text/plain": [
       "'metaphorical'"
      ]
     },
     "execution_count": 68,
     "metadata": {},
     "output_type": "execute_result"
    }
   ],
   "execution_count": 68
  },
  {
   "metadata": {
    "ExecuteTime": {
     "end_time": "2025-07-01T01:08:53.694801Z",
     "start_time": "2025-06-30T23:59:40.601175Z"
    }
   },
   "cell_type": "code",
   "source": [
    "%%time\n",
    "from concurrent.futures import ThreadPoolExecutor, as_completed\n",
    "\n",
    "def classify_many(passages, max_workers=30):\n",
    "    results = [None]*len(passages)\n",
    "    with ThreadPoolExecutor(max_workers=max_workers) as ex:\n",
    "        fut_to_i = {ex.submit(classify_labyrinthus, p): i\n",
    "                    for i, p in enumerate(passages)}\n",
    "        for fut in as_completed(fut_to_i):\n",
    "            i = fut_to_i[fut]\n",
    "            results[i] = fut.result()\n",
    "    return results\n",
    "\n",
    "labyrinthus_df[\"classification\"] = classify_many(labyrinthus_df[\"context_3sents\"])\n"
   ],
   "id": "906db91dc8792635",
   "outputs": [
    {
     "name": "stdout",
     "output_type": "stream",
     "text": [
      "CPU times: user 2.79 s, sys: 1.3 s, total: 4.1 s\n",
      "Wall time: 1h 9min 13s\n"
     ]
    }
   ],
   "execution_count": 69
  },
  {
   "metadata": {
    "ExecuteTime": {
     "end_time": "2025-07-01T07:20:07.348361Z",
     "start_time": "2025-07-01T07:20:07.341713Z"
    }
   },
   "cell_type": "code",
   "source": "labyrinthus_df[\"classification\"].value_counts()",
   "id": "f5089ba97bb55298",
   "outputs": [
    {
     "data": {
      "text/plain": [
       "classification\n",
       "anatomical       208\n",
       "mythological     162\n",
       "architectural    105\n",
       "metaphorical      67\n",
       "philosophical     30\n",
       "                ... \n",
       "confusion          1\n",
       "paracelsian        1\n",
       "military           1\n",
       "hope               1\n",
       "nautical           1\n",
       "Name: count, Length: 99, dtype: int64"
      ]
     },
     "execution_count": 71,
     "metadata": {},
     "output_type": "execute_result"
    }
   ],
   "execution_count": 71
  },
  {
   "metadata": {
    "ExecuteTime": {
     "end_time": "2025-07-01T09:24:57.971681Z",
     "start_time": "2025-07-01T09:24:57.923792Z"
    }
   },
   "cell_type": "code",
   "source": "labyrinthus_df.to_parquet(\"../data/labyrinthus_df_classified.parquet\")",
   "id": "6d8cff9443765ff8",
   "outputs": [],
   "execution_count": 72
  },
  {
   "metadata": {
    "ExecuteTime": {
     "end_time": "2025-07-01T09:30:28.670247Z",
     "start_time": "2025-07-01T09:30:28.664769Z"
    }
   },
   "cell_type": "code",
   "source": "labyrinthus_df_clean = labyrinthus_df[[\"sentence_id\", \"classification\"]].drop_duplicates(subset=['sentence_id'], keep='first')",
   "id": "1b0215dd66f0426c",
   "outputs": [],
   "execution_count": 79
  },
  {
   "metadata": {
    "ExecuteTime": {
     "end_time": "2025-07-01T09:30:35.327775Z",
     "start_time": "2025-07-01T09:30:35.324170Z"
    }
   },
   "cell_type": "code",
   "source": "len(labyrinthus_df_clean)",
   "id": "4b48ee7868bfc728",
   "execution_count": 80,
   "outputs": [
    {
     "data": {
      "text/plain": [
       "925"
      ]
     },
     "execution_count": 80,
     "metadata": {},
     "output_type": "execute_result"
    }
   ]
  },
  {
   "metadata": {
    "ExecuteTime": {
     "end_time": "2025-07-01T09:28:09.212023Z",
     "start_time": "2025-07-01T09:28:09.197858Z"
    }
   },
   "cell_type": "code",
   "source": [
    "labyrinthus_merged = pd.read_csv(\"../data/labyrinthus_grela.csv\")\n",
    "len(labyrinthus_merged)"
   ],
   "id": "db40186c4c3a81db",
   "outputs": [
    {
     "data": {
      "text/plain": [
       "979"
      ]
     },
     "execution_count": 77,
     "metadata": {},
     "output_type": "execute_result"
    }
   ],
   "execution_count": 77
  },
  {
   "metadata": {
    "ExecuteTime": {
     "end_time": "2025-07-01T09:31:02.752561Z",
     "start_time": "2025-07-01T09:31:02.748023Z"
    }
   },
   "cell_type": "code",
   "source": "labyrinthus_merged = pd.merge(labyrinthus_merged, labyrinthus_df_clean, on=\"sentence_id\", how=\"left\")",
   "id": "64fefdbd5601e367",
   "outputs": [],
   "execution_count": 82
  },
  {
   "metadata": {
    "ExecuteTime": {
     "end_time": "2025-07-01T09:31:26.524018Z",
     "start_time": "2025-07-01T09:31:26.496758Z"
    }
   },
   "cell_type": "code",
   "source": "labyrinthus_merged.to_csv(\"../data/labyrinthus_classified.csv\", index=False)",
   "id": "b30648a6fdcab2b1",
   "outputs": [],
   "execution_count": 83
  },
  {
   "metadata": {},
   "cell_type": "code",
   "outputs": [],
   "execution_count": null,
   "source": [
    "from transfrmers import AutoTokenizer, AutoModel\n",
    "import torch\n",
    "\n",
    "# 1️⃣  Model name for XLM-RoBERTa-base\n",
    "model_id = \"xlm-roberta-base\"\n",
    "\n",
    "# 2️⃣  Load tokenizer & model\n",
    "tokenizer = AutoTokenizer.from_pretrained(model_id)\n",
    "model     = AutoModel.from_pretrained(model_id)\n",
    "\n",
    "# 3️⃣  Encode a Latin sentence\n",
    "sentence = \"Quid faciamus homines miserrimi et novi generis labyrintho inclusi?\"\n",
    "encoded  = tokenizer(\n",
    "    sentence,\n",
    "    return_tensors=\"pt\",\n",
    "    return_attention_mask=True,\n",
    "    add_special_tokens=True\n",
    ")\n",
    "\n",
    "# 4️⃣  Get contextual token embeddings\n",
    "with torch.no_grad():\n",
    "    output = model(**encoded)\n",
    "    token_embeddings = output.last_hidden_state.squeeze(0)   # shape: [seq_len, 768]\n",
    "\n",
    "# ── Example: map embeddings back to tokens ──────────────────────────────\n",
    "tokens = tokenizer.convert_ids_to_tokens(encoded[\"input_ids\"][0])\n",
    "for tok, vec in zip(tokens, token_embeddings):\n",
    "    print(f\"{tok:12} → {vec[:5]} …\")   # show first 5 dims as a sanity check"
   ],
   "id": "d6275cdebff6bdb4"
  }
 ],
 "metadata": {
  "kernelspec": {
   "display_name": "latin_global_kernel",
   "language": "python",
   "name": "latin_global_kernel"
  },
  "language_info": {
   "codemirror_mode": {
    "name": "ipython",
    "version": 3
   },
   "file_extension": ".py",
   "mimetype": "text/x-python",
   "name": "python",
   "nbconvert_exporter": "python",
   "pygments_lexer": "ipython3",
   "version": "3.10.12"
  }
 },
 "nbformat": 4,
 "nbformat_minor": 5
}
