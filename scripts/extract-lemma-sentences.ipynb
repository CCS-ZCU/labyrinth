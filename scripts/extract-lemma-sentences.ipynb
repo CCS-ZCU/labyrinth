{
 "cells": [
  {
   "cell_type": "code",
   "id": "aa7c961cfbf8ce2c",
   "metadata": {
    "ExecuteTime": {
     "end_time": "2025-06-05T05:48:38.675724Z",
     "start_time": "2025-06-05T05:48:37.574028Z"
    }
   },
   "source": [
    "# import basic libraries\n",
    "import os\n",
    "import json\n",
    "import sys\n",
    "import huggingface_hub\n",
    "import numpy as np\n",
    "import pandas as pd\n",
    "import re\n",
    "import random\n",
    "import torch\n",
    "from sklearn.metrics.pairwise import cosine_similarity\n",
    "from sklearn.manifold import TSNE\n",
    "import pickle\n",
    "import matplotlib.pyplot as plt\n",
    "import plotly.graph_objects as go\n",
    "from collections import Counter\n",
    "import plotly.io as pio\n",
    "import pyperclip\n",
    "from sklearn.cluster import KMeans\n",
    "import importlib.util\n",
    "from pathlib import Path\n",
    "from collections import Counter\n",
    "\n",
    "import gspread\n",
    "from gspread_dataframe import get_as_dataframe, set_with_dataframe\n",
    "from google.oauth2 import service_account # based on google-auth library"
   ],
   "outputs": [],
   "execution_count": 1
  },
  {
   "metadata": {},
   "cell_type": "markdown",
   "source": "## Target sentences extraction - skip to next",
   "id": "38b7d942d1489ada"
  },
  {
   "cell_type": "code",
   "id": "bf1be5a5f043ace8",
   "metadata": {
    "ExecuteTime": {
     "end_time": "2025-06-05T05:48:49.630854Z",
     "start_time": "2025-06-05T05:48:49.623835Z"
    }
   },
   "source": [
    "def get_sentence_data(source_name, target_lemma, target_pos, path):\n",
    "    target_sentences = []  \n",
    "    fns = os.listdir(path)\n",
    "    for fn in fns:\n",
    "        sents_data = json.load(open(path + fn, \"rb\"))\n",
    "        if target_pos==None:\n",
    "            for sent_data in sents_data:\n",
    "                if \"VERB\" in [token_data[2] for token_data in sent_data[3]]:\n",
    "                    for token_data in sent_data[3]:\n",
    "                        if token_data[1] == target_lemma:\n",
    "                            sent = [source_name] + sent_data\n",
    "                            target_sentences.append(sent)\n",
    "                            break\n",
    "        else:\n",
    "            for sent_data in sents_data:\n",
    "                if \"VERB\" in [token_data[2] for token_data in sent_data[3]]:\n",
    "                    for token_data in sent_data[3]:\n",
    "                        if token_data[1] == target_lemma and token_data[2] == target_pos:\n",
    "                            sent = [source_name] + sent_data\n",
    "                            target_sentences.append(sent)\n",
    "                            break\n",
    "    return target_sentences"
   ],
   "outputs": [],
   "execution_count": 2
  },
  {
   "metadata": {
    "ExecuteTime": {
     "end_time": "2025-06-05T06:07:57.024972Z",
     "start_time": "2025-06-05T05:59:24.255346Z"
    }
   },
   "cell_type": "code",
   "source": [
    "%%time\n",
    "target_lemma = \"labyrinthus\"\n",
    "target_pos = \"NOUN\"\n",
    "tar_sents_emlap = get_sentence_data(\"emlap\", target_lemma, target_pos, \"/srv/data/tome/tome-corpus/sents_data_id_jsons_v3-0/\")\n",
    "tar_sents_noscemus = get_sentence_data(\"noscemus\", target_lemma, target_pos, \"/srv/data/tome/noscemus/sents_data_jsons/\")\n",
    "tar_sents_cc = get_sentence_data(\"cc\", target_lemma, target_pos, \"/srv/data/corpus-corporum/cc_sents_jsons/\")\n",
    "lab_tar_sents = tar_sents_emlap + tar_sents_noscemus + tar_sents_cc"
   ],
   "id": "8cf715c2d3dc8726",
   "outputs": [
    {
     "name": "stdout",
     "output_type": "stream",
     "text": [
      "CPU times: user 7min 44s, sys: 29.3 s, total: 8min 13s\n",
      "Wall time: 8min 32s\n"
     ]
    }
   ],
   "execution_count": 13
  },
  {
   "metadata": {
    "ExecuteTime": {
     "end_time": "2025-06-05T06:35:14.259438Z",
     "start_time": "2025-06-05T06:35:14.254851Z"
    }
   },
   "cell_type": "code",
   "source": "len(lab_tar_sents)",
   "id": "9e804c3da27c9bac",
   "outputs": [
    {
     "data": {
      "text/plain": [
       "879"
      ]
     },
     "execution_count": 16,
     "metadata": {},
     "output_type": "execute_result"
    }
   ],
   "execution_count": 16
  },
  {
   "metadata": {
    "ExecuteTime": {
     "end_time": "2025-06-05T06:07:57.087103Z",
     "start_time": "2025-06-05T06:07:57.077820Z"
    }
   },
   "cell_type": "code",
   "source": "lab_tar_sents[:5]",
   "id": "dc7d5371471c29e8",
   "outputs": [
    {
     "data": {
      "text/plain": [
       "[['emlap',\n",
       "  100044,\n",
       "  1664,\n",
       "  'Inspice quaeso huius postremi sinceritatem & ingredientium paucitatem, & confer cum praecedentium labyrintho, confusioneque ultramarinorum receptorum a Galenistis (non sine correctione mea) positorum, singulis ex utraque parte quum usus fueris iudicato.',\n",
       "  [['Inspice', 'inspicio', 'ADV', [0, 7], [74], [8]],\n",
       "   ['quaeso', 'quaeso', 'VERB', [8, 14], [74], [8]],\n",
       "   ['huius', 'hic', 'DET', [15, 20], [74], [8]],\n",
       "   ['postremi', 'postremus', 'NOUN', [21, 29], [74], [8]],\n",
       "   ['sinceritatem', 'sinceritas', 'NOUN', [30, 42], [74], [8]],\n",
       "   ['&', '&', 'PUNCT', [43, 44], [74], [9]],\n",
       "   ['ingredientium', 'ingredior', 'NOUN', [45, 58], [74], [9]],\n",
       "   ['paucitatem', 'paucitas', 'NOUN', [59, 69], [74], [9]],\n",
       "   [',', ',', 'PUNCT', [69, 70], [74], [9]],\n",
       "   ['&', '&', 'PUNCT', [71, 72], [74], [9]],\n",
       "   ['confer', 'confero', 'VERB', [73, 79], [74], [9]],\n",
       "   ['cum', 'cum', 'SCONJ', [80, 83], [74], [9]],\n",
       "   ['praecedentium', 'praecedo', 'VERB', [84, 97], [74], [10]],\n",
       "   ['labyrintho', 'labyrinthus', 'NOUN', [98, 108], [74], [10]],\n",
       "   [',', ',', 'PUNCT', [108, 109], [74], [10]],\n",
       "   ['confusione', 'confusio', 'NOUN', [110, 120], [74], [10]],\n",
       "   ['que', 'que', 'CCONJ', [120, 123], [74], [10]],\n",
       "   ['ultramarinorum', 'ultramarinus', 'ADJ', [124, 138], [74], [10, 11]],\n",
       "   ['receptorum', 'recipio', 'VERB', [139, 149], [74], [11]],\n",
       "   ['a', 'ab', 'ADP', [150, 151], [74], [11]],\n",
       "   ['Galenistis', 'Galenista', 'PROPN', [152, 162], [74], [11]],\n",
       "   ['(', '(', 'PUNCT', [163, 164], [74], [11]],\n",
       "   ['non', 'non', 'PART', [164, 167], [74], [11]],\n",
       "   ['sine', 'sine', 'ADP', [168, 172], [74], [12]],\n",
       "   ['correctione', 'correctio', 'NOUN', [173, 184], [74], [12]],\n",
       "   ['mea', 'meus', 'DET', [185, 188], [74], [12]],\n",
       "   [')', ')', 'PUNCT', [188, 189], [74], [12]],\n",
       "   ['positorum', 'pono', 'NOUN', [190, 199], [74], [12]],\n",
       "   [',', ',', 'PUNCT', [199, 200], [74], [12]],\n",
       "   ['singulis', 'singulus', 'ADJ', [201, 209], [74], [12]],\n",
       "   ['ex', 'ex', 'ADP', [210, 212], [74], [12]],\n",
       "   ['utraque', 'uterque', 'DET', [213, 220], [74], [13]],\n",
       "   ['parte', 'pars', 'NOUN', [221, 226], [74], [13]],\n",
       "   ['quum', 'quum', 'SCONJ', [227, 231], [74], [13]],\n",
       "   ['usus', 'usus', 'NOUN', [232, 236], [74], [13]],\n",
       "   ['fueris', 'sum', 'AUX', [237, 243], [74], [13]],\n",
       "   ['iudicato', 'iudicatum', 'NOUN', [244, 252], [74], [13]],\n",
       "   ['.', '.', 'PUNCT', [252, 253], [74], [13]]]],\n",
       " ['emlap',\n",
       "  100010,\n",
       "  1080,\n",
       "  'de Daedalo cum suo filio incluso in labyrintho ipsis aptasse alas ex pennis cum caera quibus euolarent ex labyrintho.',\n",
       "  [['de', 'de', 'ADP', [0, 2], [71], [12]],\n",
       "   ['Daedalo', 'daedalus', 'PROPN', [3, 10], [71], [12]],\n",
       "   ['cum', 'cum', 'NOUN', [11, 14], [71], [12]],\n",
       "   ['suo', 'suus', 'DET', [15, 18], [71], [12]],\n",
       "   ['filio', 'filius', 'NOUN', [19, 24], [71], [13]],\n",
       "   ['incluso', 'includo', 'VERB', [25, 32], [71], [13]],\n",
       "   ['in', 'in', 'ADP', [33, 35], [71], [13]],\n",
       "   ['labyrintho', 'labyrinthus', 'NOUN', [36, 46], [71], [13]],\n",
       "   ['ipsis', 'ipse', 'DET', [47, 52], [71], [13]],\n",
       "   ['aptasse', 'apto', 'VERB', [53, 60], [71], [13]],\n",
       "   ['alas', 'ala', 'NOUN', [61, 65], [71], [13]],\n",
       "   ['ex', 'ex', 'ADP', [66, 68], [71], [13]],\n",
       "   ['pennis', 'penna', 'NOUN', [69, 75], [71], [13]],\n",
       "   ['cum', 'cum', 'ADP', [76, 79], [71], [13]],\n",
       "   ['caera', 'caera', 'NOUN', [80, 85], [71], [13]],\n",
       "   ['quibus', 'qui', 'PRON', [86, 92], [71], [14]],\n",
       "   ['euolarent', 'euolo', 'VERB', [93, 102], [71], [14]],\n",
       "   ['ex', 'ex', 'ADP', [103, 105], [71], [14]],\n",
       "   ['labyrintho', 'labyrinthus', 'NOUN', [106, 116], [71], [14]],\n",
       "   ['.', '.', 'PUNCT', [116, 117], [71], [14]]]],\n",
       " ['emlap',\n",
       "  100059,\n",
       "  973,\n",
       "  'Labyrinthus medicorum errantium.',\n",
       "  [['Labyrinthus', 'labyrinthus', 'NOUN', [0, 11], [78], [19]],\n",
       "   ['medicorum', 'medicus', 'NOUN', [12, 21], [78], [19]],\n",
       "   ['errantium', 'erro', 'VERB', [22, 31], [78], [19]],\n",
       "   ['.', '.', 'PUNCT', [31, 32], [78], [19]]]],\n",
       " ['emlap',\n",
       "  100059,\n",
       "  1820,\n",
       "  'quod unus existis in aula morum corruptrice & deprauatrice, qui cum ingeniis conflictaris huiusmodi, neque animus ab officio tamen immutatur aut flectitur, ut solus philosophos ames, foueas, iuuesque illosque in deterrima labyrintho implicatos omni beneuolentiae genere prosequaris.',\n",
       "  [['quod', 'quod', 'SCONJ', [0, 4], [159], [20]],\n",
       "   ['unus', 'unus', 'NUM', [5, 9], [159], [20]],\n",
       "   ['existis', 'existo', 'VERB', [10, 17], [159], [20]],\n",
       "   ['in', 'in', 'ADP', [18, 20], [159], [20]],\n",
       "   ['aula', 'aula', 'NOUN', [21, 25], [159], [21]],\n",
       "   ['morum', 'mos', 'NOUN', [26, 31], [159], [21]],\n",
       "   ['corruptrice', 'corruptricio', 'ADV', [32, 43], [159], [21]],\n",
       "   ['&', '&', 'PUNCT', [44, 45], [159], [21]],\n",
       "   ['deprauatrice', 'deprauatrix', 'ADV', [46, 58], [159], [21, 22]],\n",
       "   [',', ',', 'PUNCT', [58, 59], [159], [22]],\n",
       "   ['qui', 'qui', 'PRON', [60, 63], [159], [22]],\n",
       "   ['cum', 'cum', 'ADP', [64, 67], [159], [22]],\n",
       "   ['ingeniis', 'ingenium', 'NOUN', [68, 76], [159], [22]],\n",
       "   ['conflictaris', 'conflicto', 'ADJ', [77, 89], [159], [22]],\n",
       "   ['huiusmodi', 'huiusmodi', 'DET', [90, 99], [159, 160], [1, 22]],\n",
       "   [',', ',', 'PUNCT', [99, 100], [160], [1]],\n",
       "   ['neque', 'neque', 'CCONJ', [101, 106], [160], [1]],\n",
       "   ['animus', 'animus', 'NOUN', [107, 113], [160], [1]],\n",
       "   ['ab', 'ab', 'ADP', [114, 116], [160], [1]],\n",
       "   ['officio', 'officium', 'NOUN', [117, 124], [160], [1]],\n",
       "   ['tamen', 'tamen', 'ADV', [125, 130], [160], [1]],\n",
       "   ['immutatur', 'immuto', 'VERB', [131, 140], [160], [1, 2]],\n",
       "   ['aut', 'aut', 'CCONJ', [141, 144], [160], [2]],\n",
       "   ['flectitur', 'flecto', 'VERB', [145, 154], [160], [2]],\n",
       "   [',', ',', 'PUNCT', [154, 155], [160], [2]],\n",
       "   ['ut', 'ut', 'SCONJ', [156, 158], [160], [2]],\n",
       "   ['solus', 'solus', 'DET', [159, 164], [160], [2]],\n",
       "   ['philosophos', 'philosophus', 'NOUN', [165, 176], [160], [2]],\n",
       "   ['ames', 'amo', 'VERB', [177, 181], [160], [3]],\n",
       "   [',', ',', 'PUNCT', [181, 182], [160], [3]],\n",
       "   ['foueas', 'foueo', 'VERB', [183, 189], [160], [3]],\n",
       "   [',', ',', 'PUNCT', [189, 190], [160], [3]],\n",
       "   ['iuues', 'iuuo', 'ADJ', [191, 196], [160], [3]],\n",
       "   ['que', 'que', 'CCONJ', [196, 199], [160], [3]],\n",
       "   ['illos', 'ille', 'DET', [200, 205], [160], [3]],\n",
       "   ['que', 'que', 'CCONJ', [205, 208], [160], [3]],\n",
       "   ['in', 'in', 'ADP', [209, 211], [160], [3]],\n",
       "   ['deterrima', 'deterrimus', 'ADJ', [212, 221], [160], [3]],\n",
       "   ['labyrintho', 'labyrinthus', 'NOUN', [222, 232], [160], [4]],\n",
       "   ['implicatos', 'implico', 'VERB', [233, 243], [160], [4]],\n",
       "   ['omni', 'omnis', 'DET', [244, 248], [160], [4]],\n",
       "   ['beneuolentiae', 'beneuolentia', 'NOUN', [249, 262], [160], [4, 5]],\n",
       "   ['genere', 'genus', 'NOUN', [263, 269], [160], [5]],\n",
       "   ['prosequaris', 'prosequor', 'VERB', [270, 281], [160], [5]],\n",
       "   ['.', '.', 'PUNCT', [281, 282], [160], [5]]]],\n",
       " ['emlap',\n",
       "  100059,\n",
       "  4191,\n",
       "  'Quod iamiam aggressuro mihi mens tota horrore quodam sacro concutitur (o philosophi) uel tanquam labyrinthum ingressuro Minotauri pauor incutitur.',\n",
       "  [['Quod', 'quod', 'SCONJ', [0, 4], [313], [29]],\n",
       "   ['iamiam', 'iamia', 'VERB', [5, 11], [313], [29]],\n",
       "   ['aggressuro', 'aggredior', 'VERB', [12, 22], [313], [29]],\n",
       "   ['mihi', 'ego', 'PRON', [23, 27], [313], [30]],\n",
       "   ['mens', 'mens', 'NOUN', [28, 32], [313], [30]],\n",
       "   ['tota', 'totus', 'DET', [33, 37], [313], [30]],\n",
       "   ['horrore', 'horror', 'NOUN', [38, 45], [313], [30]],\n",
       "   ['quodam', 'quidam', 'DET', [46, 52], [313], [30]],\n",
       "   ['sacro', 'sacer', 'ADJ', [53, 58], [313], [30]],\n",
       "   ['concutitur', 'concutio', 'VERB', [59, 69], [313], [30, 31]],\n",
       "   ['(', '(', 'PUNCT', [70, 71], [313], [31]],\n",
       "   ['o', 'o', 'PART', [71, 72], [313], [31]],\n",
       "   ['philosophi', 'philosophus', 'NOUN', [73, 83], [313], [31]],\n",
       "   [')', ')', 'PUNCT', [83, 84], [313], [31]],\n",
       "   ['uel', 'uel', 'CCONJ', [85, 88], [313], [31]],\n",
       "   ['tanquam', 'tamquam', 'ADV', [89, 96], [313], [31]],\n",
       "   ['labyrinthum', 'labyrinthus', 'NOUN', [97, 108], [313], [31, 32]],\n",
       "   ['ingressuro', 'ingredior', 'ADJ', [109, 119], [313], [32]],\n",
       "   ['Minotauri', 'Minotaurus', 'PROPN', [120, 129], [313], [32]],\n",
       "   ['pauor', 'pauor', 'NOUN', [130, 135], [313], [32]],\n",
       "   ['incutitur', 'incutio', 'VERB', [136, 145], [313], [32]],\n",
       "   ['.', '.', 'PUNCT', [145, 146], [313], [32]]]]]"
      ]
     },
     "execution_count": 14,
     "metadata": {},
     "output_type": "execute_result"
    }
   ],
   "execution_count": 14
  },
  {
   "metadata": {
    "ExecuteTime": {
     "end_time": "2025-05-25T20:22:53.604376Z",
     "start_time": "2025-05-25T20:22:53.526748Z"
    }
   },
   "cell_type": "code",
   "source": "pickle.dump(lab_tar_sents, open(\"../data/labyrinthus_sents_data.pkl\", \"wb\"))",
   "id": "d392da73689a7f1f",
   "outputs": [],
   "execution_count": 39
  },
  {
   "metadata": {
    "ExecuteTime": {
     "end_time": "2025-06-05T15:23:36.005191Z",
     "start_time": "2025-06-05T15:23:36.000936Z"
    }
   },
   "cell_type": "code",
   "source": "lab_tar_sents_df = pd.DataFrame(lab_tar_sents)",
   "id": "991b9323a685e414",
   "outputs": [],
   "execution_count": 21
  },
  {
   "metadata": {
    "ExecuteTime": {
     "end_time": "2025-06-05T15:25:06.569450Z",
     "start_time": "2025-06-05T15:25:06.528242Z"
    }
   },
   "cell_type": "code",
   "source": "lab_tar_sents_df.to_csv(\"../data/lab_tar_sents_df.csv\")",
   "id": "5a12c8561488a93a",
   "outputs": [],
   "execution_count": 25
  },
  {
   "metadata": {},
   "cell_type": "code",
   "outputs": [],
   "execution_count": null,
   "source": "len(lab_tar_sents_df)",
   "id": "e33225a229f13d98"
  },
  {
   "metadata": {
    "ExecuteTime": {
     "end_time": "2025-06-05T06:43:51.907060Z",
     "start_time": "2025-06-05T06:36:00.254845Z"
    }
   },
   "cell_type": "code",
   "source": [
    "%%time\n",
    "target_lemma = \"Ariadne\"\n",
    "target_pos = None\n",
    "tar_sents_emlap = get_sentence_data(\"emlap\", target_lemma, target_pos, \"/srv/data/tome/tome-corpus/sents_data_id_jsons_v3-0/\")\n",
    "tar_sents_noscemus = get_sentence_data(\"noscemus\", target_lemma, target_pos, \"/srv/data/tome/noscemus/sents_data_jsons/\")\n",
    "tar_sents_cc = get_sentence_data(\"cc\", target_lemma, target_pos, \"/srv/data/corpus-corporum/cc_sents_jsons/\")\n",
    "ariadne_tar_sents = tar_sents_emlap + tar_sents_noscemus + tar_sents_cc"
   ],
   "id": "81d0a48c62af4cf6",
   "outputs": [
    {
     "name": "stdout",
     "output_type": "stream",
     "text": [
      "CPU times: user 7min 34s, sys: 17.2 s, total: 7min 51s\n",
      "Wall time: 7min 51s\n"
     ]
    }
   ],
   "execution_count": 18
  },
  {
   "metadata": {
    "ExecuteTime": {
     "end_time": "2025-06-05T06:35:48.607771Z",
     "start_time": "2025-06-05T06:35:48.592436Z"
    }
   },
   "cell_type": "code",
   "source": "len(ariadne_tar_sents)",
   "id": "9c718a2e8e551e45",
   "outputs": [
    {
     "ename": "NameError",
     "evalue": "name 'ariadne_tar_sents' is not defined",
     "output_type": "error",
     "traceback": [
      "\u001B[0;31m---------------------------------------------------------------------------\u001B[0m",
      "\u001B[0;31mNameError\u001B[0m                                 Traceback (most recent call last)",
      "Cell \u001B[0;32mIn[17], line 1\u001B[0m\n\u001B[0;32m----> 1\u001B[0m \u001B[38;5;28mlen\u001B[39m(\u001B[43mariadne_tar_sents\u001B[49m)\n",
      "\u001B[0;31mNameError\u001B[0m: name 'ariadne_tar_sents' is not defined"
     ]
    }
   ],
   "execution_count": 17
  },
  {
   "metadata": {},
   "cell_type": "code",
   "outputs": [],
   "execution_count": null,
   "source": "",
   "id": "6f4f70dc9ac2335"
  },
  {
   "cell_type": "code",
   "id": "dc0fd4d91bcfc5c4",
   "metadata": {
    "ExecuteTime": {
     "end_time": "2024-11-06T21:16:54.956847Z",
     "start_time": "2024-11-06T21:16:40.731284Z"
    }
   },
   "source": "pickle.dump(ariadne_tar_sents, open(\"../data/ariadne_sents_data\", \"wb\"))",
   "outputs": [],
   "execution_count": 27
  }
 ],
 "metadata": {
  "kernelspec": {
   "display_name": "latin_global_kernel",
   "language": "python",
   "name": "latin_global_kernel"
  },
  "language_info": {
   "codemirror_mode": {
    "name": "ipython",
    "version": 3
   },
   "file_extension": ".py",
   "mimetype": "text/x-python",
   "name": "python",
   "nbconvert_exporter": "python",
   "pygments_lexer": "ipython3",
   "version": "3.10.12"
  }
 },
 "nbformat": 4,
 "nbformat_minor": 5
}
